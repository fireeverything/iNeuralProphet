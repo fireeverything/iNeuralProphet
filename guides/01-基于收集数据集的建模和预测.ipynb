{
 "cells": [
  {
   "cell_type": "code",
   "execution_count": 1,
   "id": "1be97815",
   "metadata": {},
   "outputs": [
    {
     "name": "stderr",
     "output_type": "stream",
     "text": [
      "Importing plotly failed. Interactive plots will not work.\n",
      "Importing plotly failed. Interactive plots will not work.\n"
     ]
    }
   ],
   "source": [
    "import pandas as pd\n",
    "from neuralprophet import NeuralProphet, set_log_level\n",
    "\n",
    "# 导入依赖\n",
    "import warnings\n",
    "\n",
    "warnings.filterwarnings(\"ignore\")\n",
    "\n",
    "# Disable logging messages unless there is an error\n",
    "set_log_level(\"ERROR\")"
   ]
  },
  {
   "cell_type": "code",
   "execution_count": 2,
   "id": "de90f242",
   "metadata": {},
   "outputs": [
    {
     "data": {
      "text/html": [
       "<div>\n",
       "<style scoped>\n",
       "    .dataframe tbody tr th:only-of-type {\n",
       "        vertical-align: middle;\n",
       "    }\n",
       "\n",
       "    .dataframe tbody tr th {\n",
       "        vertical-align: top;\n",
       "    }\n",
       "\n",
       "    .dataframe thead th {\n",
       "        text-align: right;\n",
       "    }\n",
       "</style>\n",
       "<table border=\"1\" class=\"dataframe\">\n",
       "  <thead>\n",
       "    <tr style=\"text-align: right;\">\n",
       "      <th></th>\n",
       "      <th>ds</th>\n",
       "      <th>y</th>\n",
       "    </tr>\n",
       "  </thead>\n",
       "  <tbody>\n",
       "    <tr>\n",
       "      <th>141</th>\n",
       "      <td>1960-10-01</td>\n",
       "      <td>461</td>\n",
       "    </tr>\n",
       "    <tr>\n",
       "      <th>142</th>\n",
       "      <td>1960-11-01</td>\n",
       "      <td>390</td>\n",
       "    </tr>\n",
       "    <tr>\n",
       "      <th>143</th>\n",
       "      <td>1960-12-01</td>\n",
       "      <td>432</td>\n",
       "    </tr>\n",
       "  </tbody>\n",
       "</table>\n",
       "</div>"
      ],
      "text/plain": [
       "             ds    y\n",
       "141  1960-10-01  461\n",
       "142  1960-11-01  390\n",
       "143  1960-12-01  432"
      ]
     },
     "execution_count": 2,
     "metadata": {},
     "output_type": "execute_result"
    }
   ],
   "source": [
    "data_location = \"/home/ann/opt/iNeuralProphet/data/\"\n",
    "df = pd.read_csv(data_location + \"air_passengers.csv\")\n",
    "df.tail(3)"
   ]
  },
  {
   "cell_type": "code",
   "execution_count": 3,
   "id": "e85497b0",
   "metadata": {},
   "outputs": [
    {
     "data": {
      "application/vnd.jupyter.widget-view+json": {
       "model_id": "ad2b00429bea41b5bb8f347f4908369b",
       "version_major": 2,
       "version_minor": 0
      },
      "text/plain": [
       "Training: |          | 0/? [00:00<?, ?it/s]"
      ]
     },
     "metadata": {},
     "output_type": "display_data"
    },
    {
     "data": {
      "application/vnd.jupyter.widget-view+json": {
       "model_id": "b2c2ddfcaba54a43b58c7d7044880905",
       "version_major": 2,
       "version_minor": 0
      },
      "text/plain": [
       "Finding best initial lr:   0%|          | 0/209 [00:00<?, ?it/s]"
      ]
     },
     "metadata": {},
     "output_type": "display_data"
    },
    {
     "data": {
      "application/vnd.jupyter.widget-view+json": {
       "model_id": "d2cde866ae01499183d2be374555ea40",
       "version_major": 2,
       "version_minor": 0
      },
      "text/plain": [
       "Training: |          | 0/? [00:00<?, ?it/s]"
      ]
     },
     "metadata": {},
     "output_type": "display_data"
    }
   ],
   "source": [
    "m = NeuralProphet(n_lags=5, n_forecasts=3)\n",
    "metrics_train = m.fit(df=df, freq=\"MS\")"
   ]
  },
  {
   "cell_type": "code",
   "execution_count": 4,
   "id": "da903bd4",
   "metadata": {},
   "outputs": [
    {
     "data": {
      "application/vnd.jupyter.widget-view+json": {
       "model_id": "65aa35213dd6433fb2561b444bec15a5",
       "version_major": 2,
       "version_minor": 0
      },
      "text/plain": [
       "Predicting: |          | 0/? [00:00<?, ?it/s]"
      ]
     },
     "metadata": {},
     "output_type": "display_data"
    }
   ],
   "source": [
    "forecast = m.predict(df)\n",
    "forecast.to_csv('forecast.csv')"
   ]
  },
  {
   "cell_type": "markdown",
   "id": "ae49d08e",
   "metadata": {},
   "source": [
    "最新预测的 df 进行数据分析"
   ]
  },
  {
   "cell_type": "code",
   "execution_count": 5,
   "id": "d63c7631",
   "metadata": {},
   "outputs": [
    {
     "data": {
      "text/html": [
       "<div>\n",
       "<style scoped>\n",
       "    .dataframe tbody tr th:only-of-type {\n",
       "        vertical-align: middle;\n",
       "    }\n",
       "\n",
       "    .dataframe tbody tr th {\n",
       "        vertical-align: top;\n",
       "    }\n",
       "\n",
       "    .dataframe thead th {\n",
       "        text-align: right;\n",
       "    }\n",
       "</style>\n",
       "<table border=\"1\" class=\"dataframe\">\n",
       "  <thead>\n",
       "    <tr style=\"text-align: right;\">\n",
       "      <th></th>\n",
       "      <th>ds</th>\n",
       "      <th>y</th>\n",
       "      <th>origin-0</th>\n",
       "    </tr>\n",
       "  </thead>\n",
       "  <tbody>\n",
       "    <tr>\n",
       "      <th>0</th>\n",
       "      <td>1960-10-01</td>\n",
       "      <td>461</td>\n",
       "      <td>473.350037</td>\n",
       "    </tr>\n",
       "    <tr>\n",
       "      <th>1</th>\n",
       "      <td>1960-11-01</td>\n",
       "      <td>390</td>\n",
       "      <td>423.013031</td>\n",
       "    </tr>\n",
       "    <tr>\n",
       "      <th>2</th>\n",
       "      <td>1960-12-01</td>\n",
       "      <td>432</td>\n",
       "      <td>470.072205</td>\n",
       "    </tr>\n",
       "  </tbody>\n",
       "</table>\n",
       "</div>"
      ],
      "text/plain": [
       "          ds    y    origin-0\n",
       "0 1960-10-01  461  473.350037\n",
       "1 1960-11-01  390  423.013031\n",
       "2 1960-12-01  432  470.072205"
      ]
     },
     "execution_count": 5,
     "metadata": {},
     "output_type": "execute_result"
    }
   ],
   "source": [
    "df_fc = m.get_latest_forecast(forecast)\n",
    "df_fc.head(3)"
   ]
  },
  {
   "cell_type": "markdown",
   "id": "4846b7e7",
   "metadata": {},
   "source": [
    "包括最新预报之前的 5 个步骤"
   ]
  },
  {
   "cell_type": "code",
   "execution_count": 6,
   "id": "6f102cc3",
   "metadata": {},
   "outputs": [
    {
     "data": {
      "text/html": [
       "<div>\n",
       "<style scoped>\n",
       "    .dataframe tbody tr th:only-of-type {\n",
       "        vertical-align: middle;\n",
       "    }\n",
       "\n",
       "    .dataframe tbody tr th {\n",
       "        vertical-align: top;\n",
       "    }\n",
       "\n",
       "    .dataframe thead th {\n",
       "        text-align: right;\n",
       "    }\n",
       "</style>\n",
       "<table border=\"1\" class=\"dataframe\">\n",
       "  <thead>\n",
       "    <tr style=\"text-align: right;\">\n",
       "      <th></th>\n",
       "      <th>ds</th>\n",
       "      <th>y</th>\n",
       "      <th>origin-5</th>\n",
       "      <th>origin-4</th>\n",
       "      <th>origin-3</th>\n",
       "      <th>origin-2</th>\n",
       "      <th>origin-1</th>\n",
       "      <th>origin-0</th>\n",
       "    </tr>\n",
       "  </thead>\n",
       "  <tbody>\n",
       "    <tr>\n",
       "      <th>0</th>\n",
       "      <td>1960-05-01</td>\n",
       "      <td>472</td>\n",
       "      <td>452.847687</td>\n",
       "      <td>None</td>\n",
       "      <td>None</td>\n",
       "      <td>None</td>\n",
       "      <td>None</td>\n",
       "      <td>None</td>\n",
       "    </tr>\n",
       "    <tr>\n",
       "      <th>1</th>\n",
       "      <td>1960-06-01</td>\n",
       "      <td>535</td>\n",
       "      <td>519.563477</td>\n",
       "      <td>527.075989</td>\n",
       "      <td>None</td>\n",
       "      <td>None</td>\n",
       "      <td>None</td>\n",
       "      <td>None</td>\n",
       "    </tr>\n",
       "    <tr>\n",
       "      <th>2</th>\n",
       "      <td>1960-07-01</td>\n",
       "      <td>622</td>\n",
       "      <td>549.820923</td>\n",
       "      <td>554.184448</td>\n",
       "      <td>570.217285</td>\n",
       "      <td>None</td>\n",
       "      <td>None</td>\n",
       "      <td>None</td>\n",
       "    </tr>\n",
       "    <tr>\n",
       "      <th>3</th>\n",
       "      <td>1960-08-01</td>\n",
       "      <td>606</td>\n",
       "      <td>None</td>\n",
       "      <td>542.661865</td>\n",
       "      <td>562.529785</td>\n",
       "      <td>596.637695</td>\n",
       "      <td>None</td>\n",
       "      <td>None</td>\n",
       "    </tr>\n",
       "    <tr>\n",
       "      <th>4</th>\n",
       "      <td>1960-09-01</td>\n",
       "      <td>508</td>\n",
       "      <td>None</td>\n",
       "      <td>None</td>\n",
       "      <td>487.217499</td>\n",
       "      <td>547.181763</td>\n",
       "      <td>554.877197</td>\n",
       "      <td>None</td>\n",
       "    </tr>\n",
       "    <tr>\n",
       "      <th>5</th>\n",
       "      <td>1960-10-01</td>\n",
       "      <td>461</td>\n",
       "      <td>None</td>\n",
       "      <td>None</td>\n",
       "      <td>None</td>\n",
       "      <td>496.414948</td>\n",
       "      <td>490.471344</td>\n",
       "      <td>473.350037</td>\n",
       "    </tr>\n",
       "    <tr>\n",
       "      <th>6</th>\n",
       "      <td>1960-11-01</td>\n",
       "      <td>390</td>\n",
       "      <td>None</td>\n",
       "      <td>None</td>\n",
       "      <td>None</td>\n",
       "      <td>None</td>\n",
       "      <td>446.316711</td>\n",
       "      <td>423.013031</td>\n",
       "    </tr>\n",
       "    <tr>\n",
       "      <th>7</th>\n",
       "      <td>1960-12-01</td>\n",
       "      <td>432</td>\n",
       "      <td>None</td>\n",
       "      <td>None</td>\n",
       "      <td>None</td>\n",
       "      <td>None</td>\n",
       "      <td>None</td>\n",
       "      <td>470.072205</td>\n",
       "    </tr>\n",
       "  </tbody>\n",
       "</table>\n",
       "</div>"
      ],
      "text/plain": [
       "          ds    y    origin-5    origin-4    origin-3    origin-2    origin-1  \\\n",
       "0 1960-05-01  472  452.847687        None        None        None        None   \n",
       "1 1960-06-01  535  519.563477  527.075989        None        None        None   \n",
       "2 1960-07-01  622  549.820923  554.184448  570.217285        None        None   \n",
       "3 1960-08-01  606        None  542.661865  562.529785  596.637695        None   \n",
       "4 1960-09-01  508        None        None  487.217499  547.181763  554.877197   \n",
       "5 1960-10-01  461        None        None        None  496.414948  490.471344   \n",
       "6 1960-11-01  390        None        None        None        None  446.316711   \n",
       "7 1960-12-01  432        None        None        None        None        None   \n",
       "\n",
       "     origin-0  \n",
       "0        None  \n",
       "1        None  \n",
       "2        None  \n",
       "3        None  \n",
       "4        None  \n",
       "5  473.350037  \n",
       "6  423.013031  \n",
       "7  470.072205  "
      ]
     },
     "execution_count": 6,
     "metadata": {},
     "output_type": "execute_result"
    }
   ],
   "source": [
    "df_fc = m.get_latest_forecast(forecast, include_previous_forecasts=5)\n",
    "df_fc.head(10)"
   ]
  },
  {
   "cell_type": "markdown",
   "id": "7563769f",
   "metadata": {},
   "source": [
    "包含历史数据"
   ]
  },
  {
   "cell_type": "code",
   "execution_count": 7,
   "id": "6a35df00",
   "metadata": {},
   "outputs": [
    {
     "data": {
      "text/html": [
       "<div>\n",
       "<style scoped>\n",
       "    .dataframe tbody tr th:only-of-type {\n",
       "        vertical-align: middle;\n",
       "    }\n",
       "\n",
       "    .dataframe tbody tr th {\n",
       "        vertical-align: top;\n",
       "    }\n",
       "\n",
       "    .dataframe thead th {\n",
       "        text-align: right;\n",
       "    }\n",
       "</style>\n",
       "<table border=\"1\" class=\"dataframe\">\n",
       "  <thead>\n",
       "    <tr style=\"text-align: right;\">\n",
       "      <th></th>\n",
       "      <th>ds</th>\n",
       "      <th>y</th>\n",
       "      <th>origin-0</th>\n",
       "    </tr>\n",
       "  </thead>\n",
       "  <tbody>\n",
       "    <tr>\n",
       "      <th>0</th>\n",
       "      <td>1949-01-01</td>\n",
       "      <td>112</td>\n",
       "      <td>None</td>\n",
       "    </tr>\n",
       "    <tr>\n",
       "      <th>1</th>\n",
       "      <td>1949-02-01</td>\n",
       "      <td>118</td>\n",
       "      <td>None</td>\n",
       "    </tr>\n",
       "    <tr>\n",
       "      <th>2</th>\n",
       "      <td>1949-03-01</td>\n",
       "      <td>132</td>\n",
       "      <td>None</td>\n",
       "    </tr>\n",
       "    <tr>\n",
       "      <th>3</th>\n",
       "      <td>1949-04-01</td>\n",
       "      <td>129</td>\n",
       "      <td>None</td>\n",
       "    </tr>\n",
       "    <tr>\n",
       "      <th>4</th>\n",
       "      <td>1949-05-01</td>\n",
       "      <td>121</td>\n",
       "      <td>None</td>\n",
       "    </tr>\n",
       "    <tr>\n",
       "      <th>...</th>\n",
       "      <td>...</td>\n",
       "      <td>...</td>\n",
       "      <td>...</td>\n",
       "    </tr>\n",
       "    <tr>\n",
       "      <th>95</th>\n",
       "      <td>1956-12-01</td>\n",
       "      <td>306</td>\n",
       "      <td>None</td>\n",
       "    </tr>\n",
       "    <tr>\n",
       "      <th>96</th>\n",
       "      <td>1957-01-01</td>\n",
       "      <td>315</td>\n",
       "      <td>None</td>\n",
       "    </tr>\n",
       "    <tr>\n",
       "      <th>97</th>\n",
       "      <td>1957-02-01</td>\n",
       "      <td>301</td>\n",
       "      <td>None</td>\n",
       "    </tr>\n",
       "    <tr>\n",
       "      <th>98</th>\n",
       "      <td>1957-03-01</td>\n",
       "      <td>356</td>\n",
       "      <td>None</td>\n",
       "    </tr>\n",
       "    <tr>\n",
       "      <th>99</th>\n",
       "      <td>1957-04-01</td>\n",
       "      <td>348</td>\n",
       "      <td>None</td>\n",
       "    </tr>\n",
       "  </tbody>\n",
       "</table>\n",
       "<p>100 rows × 3 columns</p>\n",
       "</div>"
      ],
      "text/plain": [
       "           ds    y origin-0\n",
       "0  1949-01-01  112     None\n",
       "1  1949-02-01  118     None\n",
       "2  1949-03-01  132     None\n",
       "3  1949-04-01  129     None\n",
       "4  1949-05-01  121     None\n",
       "..        ...  ...      ...\n",
       "95 1956-12-01  306     None\n",
       "96 1957-01-01  315     None\n",
       "97 1957-02-01  301     None\n",
       "98 1957-03-01  356     None\n",
       "99 1957-04-01  348     None\n",
       "\n",
       "[100 rows x 3 columns]"
      ]
     },
     "execution_count": 7,
     "metadata": {},
     "output_type": "execute_result"
    }
   ],
   "source": [
    "df_fc = m.get_latest_forecast(forecast, include_history_data=True)\n",
    "df_fc.head(100)"
   ]
  },
  {
   "cell_type": "markdown",
   "id": "afc3d732",
   "metadata": {},
   "source": [
    "调用 predict raw=True，我们得到一个 df，其中每个 “step<i>” 指的是从该行的日期时间开始的 <i> 第 个提前一步预测。这里，<i> 是指预测的目标提前多少步.\n",
    "例如，step0 是对此日期时间的预测。step1 是对下一个日期时间的预测"
   ]
  },
  {
   "cell_type": "code",
   "execution_count": 8,
   "id": "c813e853",
   "metadata": {},
   "outputs": [
    {
     "data": {
      "application/vnd.jupyter.widget-view+json": {
       "model_id": "b522f426a4a44d4c9acf75d8bd158390",
       "version_major": 2,
       "version_minor": 0
      },
      "text/plain": [
       "Predicting: |          | 0/? [00:00<?, ?it/s]"
      ]
     },
     "metadata": {},
     "output_type": "display_data"
    },
    {
     "data": {
      "text/html": [
       "<div>\n",
       "<style scoped>\n",
       "    .dataframe tbody tr th:only-of-type {\n",
       "        vertical-align: middle;\n",
       "    }\n",
       "\n",
       "    .dataframe tbody tr th {\n",
       "        vertical-align: top;\n",
       "    }\n",
       "\n",
       "    .dataframe thead th {\n",
       "        text-align: right;\n",
       "    }\n",
       "</style>\n",
       "<table border=\"1\" class=\"dataframe\">\n",
       "  <thead>\n",
       "    <tr style=\"text-align: right;\">\n",
       "      <th></th>\n",
       "      <th>ds</th>\n",
       "      <th>step0</th>\n",
       "      <th>step1</th>\n",
       "      <th>step2</th>\n",
       "    </tr>\n",
       "  </thead>\n",
       "  <tbody>\n",
       "    <tr>\n",
       "      <th>134</th>\n",
       "      <td>1960-08-01</td>\n",
       "      <td>596.637695</td>\n",
       "      <td>547.181763</td>\n",
       "      <td>496.414948</td>\n",
       "    </tr>\n",
       "    <tr>\n",
       "      <th>135</th>\n",
       "      <td>1960-09-01</td>\n",
       "      <td>554.877197</td>\n",
       "      <td>490.471344</td>\n",
       "      <td>446.316711</td>\n",
       "    </tr>\n",
       "    <tr>\n",
       "      <th>136</th>\n",
       "      <td>1960-10-01</td>\n",
       "      <td>473.350037</td>\n",
       "      <td>423.013031</td>\n",
       "      <td>470.072205</td>\n",
       "    </tr>\n",
       "  </tbody>\n",
       "</table>\n",
       "</div>"
      ],
      "text/plain": [
       "            ds       step0       step1       step2\n",
       "134 1960-08-01  596.637695  547.181763  496.414948\n",
       "135 1960-09-01  554.877197  490.471344  446.316711\n",
       "136 1960-10-01  473.350037  423.013031  470.072205"
      ]
     },
     "execution_count": 8,
     "metadata": {},
     "output_type": "execute_result"
    }
   ],
   "source": [
    "df = pd.read_csv(data_location + \"air_passengers.csv\")\n",
    "forecast = m.predict(df, decompose=False, raw=True)\n",
    "forecast.tail(3)"
   ]
  },
  {
   "cell_type": "markdown",
   "id": "b96e1390",
   "metadata": {},
   "source": [
    "设置 decompose=True 将包括各个预测组件，这些组件还引用它们各自对未来 step<i> 的贡献"
   ]
  },
  {
   "cell_type": "code",
   "execution_count": 9,
   "id": "3d28225a",
   "metadata": {},
   "outputs": [
    {
     "data": {
      "application/vnd.jupyter.widget-view+json": {
       "model_id": "9ab9e0a8c8a349179768d2a567dc538a",
       "version_major": 2,
       "version_minor": 0
      },
      "text/plain": [
       "Predicting: |          | 0/? [00:00<?, ?it/s]"
      ]
     },
     "metadata": {},
     "output_type": "display_data"
    },
    {
     "data": {
      "text/html": [
       "<div>\n",
       "<style scoped>\n",
       "    .dataframe tbody tr th:only-of-type {\n",
       "        vertical-align: middle;\n",
       "    }\n",
       "\n",
       "    .dataframe tbody tr th {\n",
       "        vertical-align: top;\n",
       "    }\n",
       "\n",
       "    .dataframe thead th {\n",
       "        text-align: right;\n",
       "    }\n",
       "</style>\n",
       "<table border=\"1\" class=\"dataframe\">\n",
       "  <thead>\n",
       "    <tr style=\"text-align: right;\">\n",
       "      <th></th>\n",
       "      <th>ds</th>\n",
       "      <th>step0</th>\n",
       "      <th>trend0</th>\n",
       "      <th>season_yearly0</th>\n",
       "      <th>ar0</th>\n",
       "      <th>step1</th>\n",
       "      <th>trend1</th>\n",
       "      <th>season_yearly1</th>\n",
       "      <th>ar1</th>\n",
       "      <th>step2</th>\n",
       "      <th>trend2</th>\n",
       "      <th>season_yearly2</th>\n",
       "      <th>ar2</th>\n",
       "    </tr>\n",
       "  </thead>\n",
       "  <tbody>\n",
       "    <tr>\n",
       "      <th>134</th>\n",
       "      <td>1960-08-01</td>\n",
       "      <td>596.637695</td>\n",
       "      <td>480.693451</td>\n",
       "      <td>76.682625</td>\n",
       "      <td>39.261631</td>\n",
       "      <td>547.181763</td>\n",
       "      <td>483.188873</td>\n",
       "      <td>15.855521</td>\n",
       "      <td>48.137341</td>\n",
       "      <td>496.414948</td>\n",
       "      <td>485.603729</td>\n",
       "      <td>-24.855297</td>\n",
       "      <td>35.666489</td>\n",
       "    </tr>\n",
       "    <tr>\n",
       "      <th>135</th>\n",
       "      <td>1960-09-01</td>\n",
       "      <td>554.877197</td>\n",
       "      <td>483.188873</td>\n",
       "      <td>15.855521</td>\n",
       "      <td>55.832771</td>\n",
       "      <td>490.471344</td>\n",
       "      <td>485.603729</td>\n",
       "      <td>-24.855297</td>\n",
       "      <td>29.722874</td>\n",
       "      <td>446.316711</td>\n",
       "      <td>488.099121</td>\n",
       "      <td>-64.326599</td>\n",
       "      <td>22.544188</td>\n",
       "    </tr>\n",
       "    <tr>\n",
       "      <th>136</th>\n",
       "      <td>1960-10-01</td>\n",
       "      <td>473.350037</td>\n",
       "      <td>485.603729</td>\n",
       "      <td>-24.855297</td>\n",
       "      <td>12.601562</td>\n",
       "      <td>423.013031</td>\n",
       "      <td>488.099121</td>\n",
       "      <td>-64.326599</td>\n",
       "      <td>-0.759486</td>\n",
       "      <td>470.072205</td>\n",
       "      <td>490.514038</td>\n",
       "      <td>-32.291817</td>\n",
       "      <td>11.850000</td>\n",
       "    </tr>\n",
       "  </tbody>\n",
       "</table>\n",
       "</div>"
      ],
      "text/plain": [
       "            ds       step0      trend0  season_yearly0        ar0       step1  \\\n",
       "134 1960-08-01  596.637695  480.693451       76.682625  39.261631  547.181763   \n",
       "135 1960-09-01  554.877197  483.188873       15.855521  55.832771  490.471344   \n",
       "136 1960-10-01  473.350037  485.603729      -24.855297  12.601562  423.013031   \n",
       "\n",
       "         trend1  season_yearly1        ar1       step2      trend2  \\\n",
       "134  483.188873       15.855521  48.137341  496.414948  485.603729   \n",
       "135  485.603729      -24.855297  29.722874  446.316711  488.099121   \n",
       "136  488.099121      -64.326599  -0.759486  470.072205  490.514038   \n",
       "\n",
       "     season_yearly2        ar2  \n",
       "134      -24.855297  35.666489  \n",
       "135      -64.326599  22.544188  \n",
       "136      -32.291817  11.850000  "
      ]
     },
     "execution_count": 9,
     "metadata": {},
     "output_type": "execute_result"
    }
   ],
   "source": [
    "df = pd.read_csv(data_location + \"air_passengers.csv\")\n",
    "forecast = m.predict(df, decompose=True, raw=True)\n",
    "forecast.tail(3)"
   ]
  },
  {
   "cell_type": "markdown",
   "id": "e3f9f8d8",
   "metadata": {},
   "source": [
    "将预测扩展到未知未来的方法"
   ]
  },
  {
   "cell_type": "markdown",
   "id": "8758d7ef",
   "metadata": {},
   "source": [
    "先生成预测的数据框"
   ]
  },
  {
   "cell_type": "code",
   "execution_count": 10,
   "id": "a2e6a810",
   "metadata": {},
   "outputs": [],
   "source": [
    "df = pd.read_csv(data_location + \"air_passengers.csv\")\n",
    "future = m.make_future_dataframe(\n",
    "    df, periods=3, n_historic_predictions=False\n",
    ")  # periods=m.n_forecasts, n_historic_predictions=False"
   ]
  },
  {
   "cell_type": "code",
   "execution_count": 11,
   "id": "7c577d11",
   "metadata": {},
   "outputs": [
    {
     "data": {
      "text/html": [
       "<div>\n",
       "<style scoped>\n",
       "    .dataframe tbody tr th:only-of-type {\n",
       "        vertical-align: middle;\n",
       "    }\n",
       "\n",
       "    .dataframe tbody tr th {\n",
       "        vertical-align: top;\n",
       "    }\n",
       "\n",
       "    .dataframe thead th {\n",
       "        text-align: right;\n",
       "    }\n",
       "</style>\n",
       "<table border=\"1\" class=\"dataframe\">\n",
       "  <thead>\n",
       "    <tr style=\"text-align: right;\">\n",
       "      <th></th>\n",
       "      <th>ds</th>\n",
       "      <th>y</th>\n",
       "    </tr>\n",
       "  </thead>\n",
       "  <tbody>\n",
       "    <tr>\n",
       "      <th>0</th>\n",
       "      <td>1960-08-01</td>\n",
       "      <td>606</td>\n",
       "    </tr>\n",
       "    <tr>\n",
       "      <th>1</th>\n",
       "      <td>1960-09-01</td>\n",
       "      <td>508</td>\n",
       "    </tr>\n",
       "    <tr>\n",
       "      <th>2</th>\n",
       "      <td>1960-10-01</td>\n",
       "      <td>461</td>\n",
       "    </tr>\n",
       "    <tr>\n",
       "      <th>3</th>\n",
       "      <td>1960-11-01</td>\n",
       "      <td>390</td>\n",
       "    </tr>\n",
       "    <tr>\n",
       "      <th>4</th>\n",
       "      <td>1960-12-01</td>\n",
       "      <td>432</td>\n",
       "    </tr>\n",
       "    <tr>\n",
       "      <th>5</th>\n",
       "      <td>1961-01-01</td>\n",
       "      <td>None</td>\n",
       "    </tr>\n",
       "    <tr>\n",
       "      <th>6</th>\n",
       "      <td>1961-02-01</td>\n",
       "      <td>None</td>\n",
       "    </tr>\n",
       "    <tr>\n",
       "      <th>7</th>\n",
       "      <td>1961-03-01</td>\n",
       "      <td>None</td>\n",
       "    </tr>\n",
       "  </tbody>\n",
       "</table>\n",
       "</div>"
      ],
      "text/plain": [
       "          ds     y\n",
       "0 1960-08-01   606\n",
       "1 1960-09-01   508\n",
       "2 1960-10-01   461\n",
       "3 1960-11-01   390\n",
       "4 1960-12-01   432\n",
       "5 1961-01-01  None\n",
       "6 1961-02-01  None\n",
       "7 1961-03-01  None"
      ]
     },
     "execution_count": 11,
     "metadata": {},
     "output_type": "execute_result"
    }
   ],
   "source": [
    "future.tail(10)"
   ]
  },
  {
   "cell_type": "markdown",
   "id": "84f25b45",
   "metadata": {},
   "source": [
    "基于预测目标的数据框执行预测"
   ]
  },
  {
   "cell_type": "code",
   "execution_count": 12,
   "id": "4f7698b5",
   "metadata": {},
   "outputs": [
    {
     "data": {
      "application/vnd.jupyter.widget-view+json": {
       "model_id": "579c58f24aeb42c2ae80c1d718c0201d",
       "version_major": 2,
       "version_minor": 0
      },
      "text/plain": [
       "Predicting: |          | 0/? [00:00<?, ?it/s]"
      ]
     },
     "metadata": {},
     "output_type": "display_data"
    },
    {
     "data": {
      "text/html": [
       "<div>\n",
       "<style scoped>\n",
       "    .dataframe tbody tr th:only-of-type {\n",
       "        vertical-align: middle;\n",
       "    }\n",
       "\n",
       "    .dataframe tbody tr th {\n",
       "        vertical-align: top;\n",
       "    }\n",
       "\n",
       "    .dataframe thead th {\n",
       "        text-align: right;\n",
       "    }\n",
       "</style>\n",
       "<table border=\"1\" class=\"dataframe\">\n",
       "  <thead>\n",
       "    <tr style=\"text-align: right;\">\n",
       "      <th></th>\n",
       "      <th>ds</th>\n",
       "      <th>y</th>\n",
       "      <th>yhat1</th>\n",
       "      <th>yhat2</th>\n",
       "      <th>yhat3</th>\n",
       "      <th>ar1</th>\n",
       "      <th>ar2</th>\n",
       "      <th>ar3</th>\n",
       "      <th>trend</th>\n",
       "      <th>season_yearly</th>\n",
       "    </tr>\n",
       "  </thead>\n",
       "  <tbody>\n",
       "    <tr>\n",
       "      <th>5</th>\n",
       "      <td>1961-01-01</td>\n",
       "      <td>NaN</td>\n",
       "      <td>441.19281</td>\n",
       "      <td>NaN</td>\n",
       "      <td>NaN</td>\n",
       "      <td>-22.236631</td>\n",
       "      <td>NaN</td>\n",
       "      <td>NaN</td>\n",
       "      <td>493.009399</td>\n",
       "      <td>-29.579958</td>\n",
       "    </tr>\n",
       "    <tr>\n",
       "      <th>6</th>\n",
       "      <td>1961-02-01</td>\n",
       "      <td>NaN</td>\n",
       "      <td>NaN</td>\n",
       "      <td>448.442749</td>\n",
       "      <td>NaN</td>\n",
       "      <td>NaN</td>\n",
       "      <td>-8.513306</td>\n",
       "      <td>NaN</td>\n",
       "      <td>495.504822</td>\n",
       "      <td>-38.548756</td>\n",
       "    </tr>\n",
       "    <tr>\n",
       "      <th>7</th>\n",
       "      <td>1961-03-01</td>\n",
       "      <td>NaN</td>\n",
       "      <td>NaN</td>\n",
       "      <td>NaN</td>\n",
       "      <td>482.432434</td>\n",
       "      <td>NaN</td>\n",
       "      <td>NaN</td>\n",
       "      <td>-10.649454</td>\n",
       "      <td>497.758759</td>\n",
       "      <td>-4.676874</td>\n",
       "    </tr>\n",
       "  </tbody>\n",
       "</table>\n",
       "</div>"
      ],
      "text/plain": [
       "          ds   y      yhat1       yhat2       yhat3        ar1       ar2  \\\n",
       "5 1961-01-01 NaN  441.19281         NaN         NaN -22.236631       NaN   \n",
       "6 1961-02-01 NaN        NaN  448.442749         NaN        NaN -8.513306   \n",
       "7 1961-03-01 NaN        NaN         NaN  482.432434        NaN       NaN   \n",
       "\n",
       "         ar3       trend  season_yearly  \n",
       "5        NaN  493.009399     -29.579958  \n",
       "6        NaN  495.504822     -38.548756  \n",
       "7 -10.649454  497.758759      -4.676874  "
      ]
     },
     "execution_count": 12,
     "metadata": {},
     "output_type": "execute_result"
    }
   ],
   "source": [
    "forecast = m.predict(future)\n",
    "forecast.tail(3)"
   ]
  },
  {
   "cell_type": "markdown",
   "id": "d6a37b06",
   "metadata": {},
   "source": [
    "​raw 和 decompose参数控制输出内容\n",
    "​raw=False, decompose=True(默认)​​ ​最常用。每个时间点一行，并显示成分分解。大多数情况下的分析和可视化。\n",
    "\n",
    "raw=True, decompose=False 保留预测序列的原始结构，但隐藏成分细节。高级模型诊断，滚动预测分析。\n",
    "\n",
    "raw=True, decompose=True ​最详细。保留原始结构且显示成分分解。深度调试，需要完全理解模型如何生成每一个预测。\n",
    "\n",
    "raw=False, decompose=False ​最简洁。只返回最终预测值，没有分解细节。只需要最终预测结果用于下游系统集成。\n"
   ]
  },
  {
   "cell_type": "code",
   "execution_count": 13,
   "id": "879b7310",
   "metadata": {},
   "outputs": [
    {
     "data": {
      "application/vnd.jupyter.widget-view+json": {
       "model_id": "40dd8ee6b53e44db89e993b7e8a03679",
       "version_major": 2,
       "version_minor": 0
      },
      "text/plain": [
       "Predicting: |          | 0/? [00:00<?, ?it/s]"
      ]
     },
     "metadata": {},
     "output_type": "display_data"
    },
    {
     "data": {
      "text/html": [
       "<div>\n",
       "<style scoped>\n",
       "    .dataframe tbody tr th:only-of-type {\n",
       "        vertical-align: middle;\n",
       "    }\n",
       "\n",
       "    .dataframe tbody tr th {\n",
       "        vertical-align: top;\n",
       "    }\n",
       "\n",
       "    .dataframe thead th {\n",
       "        text-align: right;\n",
       "    }\n",
       "</style>\n",
       "<table border=\"1\" class=\"dataframe\">\n",
       "  <thead>\n",
       "    <tr style=\"text-align: right;\">\n",
       "      <th></th>\n",
       "      <th>ds</th>\n",
       "      <th>y</th>\n",
       "      <th>yhat1</th>\n",
       "      <th>yhat2</th>\n",
       "      <th>yhat3</th>\n",
       "      <th>ar1</th>\n",
       "      <th>ar2</th>\n",
       "      <th>ar3</th>\n",
       "      <th>trend</th>\n",
       "      <th>season_yearly</th>\n",
       "    </tr>\n",
       "  </thead>\n",
       "  <tbody>\n",
       "    <tr>\n",
       "      <th>0</th>\n",
       "      <td>1960-08-01</td>\n",
       "      <td>606.0</td>\n",
       "      <td>NaN</td>\n",
       "      <td>NaN</td>\n",
       "      <td>NaN</td>\n",
       "      <td>NaN</td>\n",
       "      <td>NaN</td>\n",
       "      <td>NaN</td>\n",
       "      <td>NaN</td>\n",
       "      <td>NaN</td>\n",
       "    </tr>\n",
       "    <tr>\n",
       "      <th>1</th>\n",
       "      <td>1960-09-01</td>\n",
       "      <td>508.0</td>\n",
       "      <td>NaN</td>\n",
       "      <td>NaN</td>\n",
       "      <td>NaN</td>\n",
       "      <td>NaN</td>\n",
       "      <td>NaN</td>\n",
       "      <td>NaN</td>\n",
       "      <td>NaN</td>\n",
       "      <td>NaN</td>\n",
       "    </tr>\n",
       "    <tr>\n",
       "      <th>2</th>\n",
       "      <td>1960-10-01</td>\n",
       "      <td>461.0</td>\n",
       "      <td>NaN</td>\n",
       "      <td>NaN</td>\n",
       "      <td>NaN</td>\n",
       "      <td>NaN</td>\n",
       "      <td>NaN</td>\n",
       "      <td>NaN</td>\n",
       "      <td>NaN</td>\n",
       "      <td>NaN</td>\n",
       "    </tr>\n",
       "    <tr>\n",
       "      <th>3</th>\n",
       "      <td>1960-11-01</td>\n",
       "      <td>390.0</td>\n",
       "      <td>NaN</td>\n",
       "      <td>NaN</td>\n",
       "      <td>NaN</td>\n",
       "      <td>NaN</td>\n",
       "      <td>NaN</td>\n",
       "      <td>NaN</td>\n",
       "      <td>NaN</td>\n",
       "      <td>NaN</td>\n",
       "    </tr>\n",
       "    <tr>\n",
       "      <th>4</th>\n",
       "      <td>1960-12-01</td>\n",
       "      <td>432.0</td>\n",
       "      <td>NaN</td>\n",
       "      <td>NaN</td>\n",
       "      <td>NaN</td>\n",
       "      <td>NaN</td>\n",
       "      <td>NaN</td>\n",
       "      <td>NaN</td>\n",
       "      <td>NaN</td>\n",
       "      <td>NaN</td>\n",
       "    </tr>\n",
       "    <tr>\n",
       "      <th>5</th>\n",
       "      <td>1961-01-01</td>\n",
       "      <td>NaN</td>\n",
       "      <td>441.19281</td>\n",
       "      <td>NaN</td>\n",
       "      <td>NaN</td>\n",
       "      <td>-22.236631</td>\n",
       "      <td>NaN</td>\n",
       "      <td>NaN</td>\n",
       "      <td>493.009399</td>\n",
       "      <td>-29.579958</td>\n",
       "    </tr>\n",
       "    <tr>\n",
       "      <th>6</th>\n",
       "      <td>1961-02-01</td>\n",
       "      <td>NaN</td>\n",
       "      <td>NaN</td>\n",
       "      <td>448.442749</td>\n",
       "      <td>NaN</td>\n",
       "      <td>NaN</td>\n",
       "      <td>-8.513306</td>\n",
       "      <td>NaN</td>\n",
       "      <td>495.504822</td>\n",
       "      <td>-38.548756</td>\n",
       "    </tr>\n",
       "    <tr>\n",
       "      <th>7</th>\n",
       "      <td>1961-03-01</td>\n",
       "      <td>NaN</td>\n",
       "      <td>NaN</td>\n",
       "      <td>NaN</td>\n",
       "      <td>482.432434</td>\n",
       "      <td>NaN</td>\n",
       "      <td>NaN</td>\n",
       "      <td>-10.649454</td>\n",
       "      <td>497.758759</td>\n",
       "      <td>-4.676874</td>\n",
       "    </tr>\n",
       "  </tbody>\n",
       "</table>\n",
       "</div>"
      ],
      "text/plain": [
       "          ds      y      yhat1       yhat2       yhat3        ar1       ar2  \\\n",
       "0 1960-08-01  606.0        NaN         NaN         NaN        NaN       NaN   \n",
       "1 1960-09-01  508.0        NaN         NaN         NaN        NaN       NaN   \n",
       "2 1960-10-01  461.0        NaN         NaN         NaN        NaN       NaN   \n",
       "3 1960-11-01  390.0        NaN         NaN         NaN        NaN       NaN   \n",
       "4 1960-12-01  432.0        NaN         NaN         NaN        NaN       NaN   \n",
       "5 1961-01-01    NaN  441.19281         NaN         NaN -22.236631       NaN   \n",
       "6 1961-02-01    NaN        NaN  448.442749         NaN        NaN -8.513306   \n",
       "7 1961-03-01    NaN        NaN         NaN  482.432434        NaN       NaN   \n",
       "\n",
       "         ar3       trend  season_yearly  \n",
       "0        NaN         NaN            NaN  \n",
       "1        NaN         NaN            NaN  \n",
       "2        NaN         NaN            NaN  \n",
       "3        NaN         NaN            NaN  \n",
       "4        NaN         NaN            NaN  \n",
       "5        NaN  493.009399     -29.579958  \n",
       "6        NaN  495.504822     -38.548756  \n",
       "7 -10.649454  497.758759      -4.676874  "
      ]
     },
     "execution_count": 13,
     "metadata": {},
     "output_type": "execute_result"
    }
   ],
   "source": [
    "forecast = m.predict(future, raw=False, decompose=True)\n",
    "forecast"
   ]
  },
  {
   "cell_type": "code",
   "execution_count": 14,
   "id": "b346b8da",
   "metadata": {},
   "outputs": [
    {
     "data": {
      "application/vnd.jupyter.widget-view+json": {
       "model_id": "15248826e5494aec88ba06dfc7bd750b",
       "version_major": 2,
       "version_minor": 0
      },
      "text/plain": [
       "Predicting: |          | 0/? [00:00<?, ?it/s]"
      ]
     },
     "metadata": {},
     "output_type": "display_data"
    },
    {
     "data": {
      "text/html": [
       "<div>\n",
       "<style scoped>\n",
       "    .dataframe tbody tr th:only-of-type {\n",
       "        vertical-align: middle;\n",
       "    }\n",
       "\n",
       "    .dataframe tbody tr th {\n",
       "        vertical-align: top;\n",
       "    }\n",
       "\n",
       "    .dataframe thead th {\n",
       "        text-align: right;\n",
       "    }\n",
       "</style>\n",
       "<table border=\"1\" class=\"dataframe\">\n",
       "  <thead>\n",
       "    <tr style=\"text-align: right;\">\n",
       "      <th></th>\n",
       "      <th>ds</th>\n",
       "      <th>step0</th>\n",
       "      <th>step1</th>\n",
       "      <th>step2</th>\n",
       "    </tr>\n",
       "  </thead>\n",
       "  <tbody>\n",
       "    <tr>\n",
       "      <th>0</th>\n",
       "      <td>1961-01-01</td>\n",
       "      <td>441.19281</td>\n",
       "      <td>448.442749</td>\n",
       "      <td>482.432434</td>\n",
       "    </tr>\n",
       "  </tbody>\n",
       "</table>\n",
       "</div>"
      ],
      "text/plain": [
       "          ds      step0       step1       step2\n",
       "0 1961-01-01  441.19281  448.442749  482.432434"
      ]
     },
     "execution_count": 14,
     "metadata": {},
     "output_type": "execute_result"
    }
   ],
   "source": [
    "forecast = m.predict(future, raw=True, decompose=False)\n",
    "forecast"
   ]
  },
  {
   "cell_type": "code",
   "execution_count": 15,
   "id": "15182b71",
   "metadata": {},
   "outputs": [
    {
     "data": {
      "application/vnd.jupyter.widget-view+json": {
       "model_id": "4f91e6174f6d44daa47d63018b30713c",
       "version_major": 2,
       "version_minor": 0
      },
      "text/plain": [
       "Predicting: |          | 0/? [00:00<?, ?it/s]"
      ]
     },
     "metadata": {},
     "output_type": "display_data"
    },
    {
     "data": {
      "text/html": [
       "<div>\n",
       "<style scoped>\n",
       "    .dataframe tbody tr th:only-of-type {\n",
       "        vertical-align: middle;\n",
       "    }\n",
       "\n",
       "    .dataframe tbody tr th {\n",
       "        vertical-align: top;\n",
       "    }\n",
       "\n",
       "    .dataframe thead th {\n",
       "        text-align: right;\n",
       "    }\n",
       "</style>\n",
       "<table border=\"1\" class=\"dataframe\">\n",
       "  <thead>\n",
       "    <tr style=\"text-align: right;\">\n",
       "      <th></th>\n",
       "      <th>ds</th>\n",
       "      <th>step0</th>\n",
       "      <th>trend0</th>\n",
       "      <th>season_yearly0</th>\n",
       "      <th>ar0</th>\n",
       "      <th>step1</th>\n",
       "      <th>trend1</th>\n",
       "      <th>season_yearly1</th>\n",
       "      <th>ar1</th>\n",
       "      <th>step2</th>\n",
       "      <th>trend2</th>\n",
       "      <th>season_yearly2</th>\n",
       "      <th>ar2</th>\n",
       "    </tr>\n",
       "  </thead>\n",
       "  <tbody>\n",
       "    <tr>\n",
       "      <th>0</th>\n",
       "      <td>1961-01-01</td>\n",
       "      <td>441.19281</td>\n",
       "      <td>493.009399</td>\n",
       "      <td>-29.579958</td>\n",
       "      <td>-22.236631</td>\n",
       "      <td>448.442749</td>\n",
       "      <td>495.504822</td>\n",
       "      <td>-38.548756</td>\n",
       "      <td>-8.513306</td>\n",
       "      <td>482.432434</td>\n",
       "      <td>497.758759</td>\n",
       "      <td>-4.676874</td>\n",
       "      <td>-10.649454</td>\n",
       "    </tr>\n",
       "  </tbody>\n",
       "</table>\n",
       "</div>"
      ],
      "text/plain": [
       "          ds      step0      trend0  season_yearly0        ar0       step1  \\\n",
       "0 1961-01-01  441.19281  493.009399      -29.579958 -22.236631  448.442749   \n",
       "\n",
       "       trend1  season_yearly1       ar1       step2      trend2  \\\n",
       "0  495.504822      -38.548756 -8.513306  482.432434  497.758759   \n",
       "\n",
       "   season_yearly2        ar2  \n",
       "0       -4.676874 -10.649454  "
      ]
     },
     "execution_count": 15,
     "metadata": {},
     "output_type": "execute_result"
    }
   ],
   "source": [
    "forecast = m.predict(future, raw=True, decompose=True)\n",
    "forecast"
   ]
  },
  {
   "cell_type": "code",
   "execution_count": 16,
   "id": "24f1bdd4",
   "metadata": {},
   "outputs": [
    {
     "data": {
      "application/vnd.jupyter.widget-view+json": {
       "model_id": "f156de6c6bcd4dd2ae7bc124571d7c60",
       "version_major": 2,
       "version_minor": 0
      },
      "text/plain": [
       "Predicting: |          | 0/? [00:00<?, ?it/s]"
      ]
     },
     "metadata": {},
     "output_type": "display_data"
    },
    {
     "data": {
      "text/html": [
       "<div>\n",
       "<style scoped>\n",
       "    .dataframe tbody tr th:only-of-type {\n",
       "        vertical-align: middle;\n",
       "    }\n",
       "\n",
       "    .dataframe tbody tr th {\n",
       "        vertical-align: top;\n",
       "    }\n",
       "\n",
       "    .dataframe thead th {\n",
       "        text-align: right;\n",
       "    }\n",
       "</style>\n",
       "<table border=\"1\" class=\"dataframe\">\n",
       "  <thead>\n",
       "    <tr style=\"text-align: right;\">\n",
       "      <th></th>\n",
       "      <th>ds</th>\n",
       "      <th>y</th>\n",
       "      <th>yhat1</th>\n",
       "      <th>yhat2</th>\n",
       "      <th>yhat3</th>\n",
       "    </tr>\n",
       "  </thead>\n",
       "  <tbody>\n",
       "    <tr>\n",
       "      <th>0</th>\n",
       "      <td>1960-08-01</td>\n",
       "      <td>606.0</td>\n",
       "      <td>NaN</td>\n",
       "      <td>NaN</td>\n",
       "      <td>NaN</td>\n",
       "    </tr>\n",
       "    <tr>\n",
       "      <th>1</th>\n",
       "      <td>1960-09-01</td>\n",
       "      <td>508.0</td>\n",
       "      <td>NaN</td>\n",
       "      <td>NaN</td>\n",
       "      <td>NaN</td>\n",
       "    </tr>\n",
       "    <tr>\n",
       "      <th>2</th>\n",
       "      <td>1960-10-01</td>\n",
       "      <td>461.0</td>\n",
       "      <td>NaN</td>\n",
       "      <td>NaN</td>\n",
       "      <td>NaN</td>\n",
       "    </tr>\n",
       "    <tr>\n",
       "      <th>3</th>\n",
       "      <td>1960-11-01</td>\n",
       "      <td>390.0</td>\n",
       "      <td>NaN</td>\n",
       "      <td>NaN</td>\n",
       "      <td>NaN</td>\n",
       "    </tr>\n",
       "    <tr>\n",
       "      <th>4</th>\n",
       "      <td>1960-12-01</td>\n",
       "      <td>432.0</td>\n",
       "      <td>NaN</td>\n",
       "      <td>NaN</td>\n",
       "      <td>NaN</td>\n",
       "    </tr>\n",
       "    <tr>\n",
       "      <th>5</th>\n",
       "      <td>1961-01-01</td>\n",
       "      <td>NaN</td>\n",
       "      <td>441.19281</td>\n",
       "      <td>NaN</td>\n",
       "      <td>NaN</td>\n",
       "    </tr>\n",
       "    <tr>\n",
       "      <th>6</th>\n",
       "      <td>1961-02-01</td>\n",
       "      <td>NaN</td>\n",
       "      <td>NaN</td>\n",
       "      <td>448.442749</td>\n",
       "      <td>NaN</td>\n",
       "    </tr>\n",
       "    <tr>\n",
       "      <th>7</th>\n",
       "      <td>1961-03-01</td>\n",
       "      <td>NaN</td>\n",
       "      <td>NaN</td>\n",
       "      <td>NaN</td>\n",
       "      <td>482.432434</td>\n",
       "    </tr>\n",
       "  </tbody>\n",
       "</table>\n",
       "</div>"
      ],
      "text/plain": [
       "          ds      y      yhat1       yhat2       yhat3\n",
       "0 1960-08-01  606.0        NaN         NaN         NaN\n",
       "1 1960-09-01  508.0        NaN         NaN         NaN\n",
       "2 1960-10-01  461.0        NaN         NaN         NaN\n",
       "3 1960-11-01  390.0        NaN         NaN         NaN\n",
       "4 1960-12-01  432.0        NaN         NaN         NaN\n",
       "5 1961-01-01    NaN  441.19281         NaN         NaN\n",
       "6 1961-02-01    NaN        NaN  448.442749         NaN\n",
       "7 1961-03-01    NaN        NaN         NaN  482.432434"
      ]
     },
     "execution_count": 16,
     "metadata": {},
     "output_type": "execute_result"
    }
   ],
   "source": [
    "forecast = m.predict(future, raw=False, decompose=False)\n",
    "forecast"
   ]
  }
 ],
 "metadata": {
  "kernelspec": {
   "display_name": ".venv",
   "language": "python",
   "name": "python3"
  },
  "language_info": {
   "codemirror_mode": {
    "name": "ipython",
    "version": 3
   },
   "file_extension": ".py",
   "mimetype": "text/x-python",
   "name": "python",
   "nbconvert_exporter": "python",
   "pygments_lexer": "ipython3",
   "version": "3.11.11"
  }
 },
 "nbformat": 4,
 "nbformat_minor": 5
}
