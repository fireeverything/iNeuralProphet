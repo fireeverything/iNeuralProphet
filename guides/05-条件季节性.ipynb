{
 "cells": [
  {
   "cell_type": "markdown",
   "id": "a33c459c",
   "metadata": {},
   "source": [
    "默认情况下，NeuralProphet 对每年、每周和每天的季节性进行建模，这些季节性在所有时间戳中保持静态。通过条件季节性，我们使模型能够将季节性拟合到数据集的某些部分。"
   ]
  },
  {
   "cell_type": "code",
   "execution_count": 10,
   "id": "53a9fbdd",
   "metadata": {},
   "outputs": [],
   "source": [
    "import pandas as pd\n",
    "from neuralprophet import NeuralProphet, set_log_level, set_random_seed, df_utils\n",
    "\n",
    "# 导入依赖\n",
    "import warnings\n",
    "import numpy as np\n",
    "\n",
    "warnings.filterwarnings(\"ignore\")\n",
    "\n",
    "# Disable logging messages unless there is an error\n",
    "set_log_level(\"ERROR\")"
   ]
  },
  {
   "cell_type": "code",
   "execution_count": 3,
   "id": "965a9883",
   "metadata": {},
   "outputs": [
    {
     "data": {
      "text/html": [
       "<div>\n",
       "<style scoped>\n",
       "    .dataframe tbody tr th:only-of-type {\n",
       "        vertical-align: middle;\n",
       "    }\n",
       "\n",
       "    .dataframe tbody tr th {\n",
       "        vertical-align: top;\n",
       "    }\n",
       "\n",
       "    .dataframe thead th {\n",
       "        text-align: right;\n",
       "    }\n",
       "</style>\n",
       "<table border=\"1\" class=\"dataframe\">\n",
       "  <thead>\n",
       "    <tr style=\"text-align: right;\">\n",
       "      <th></th>\n",
       "      <th>ds</th>\n",
       "      <th>y</th>\n",
       "    </tr>\n",
       "  </thead>\n",
       "  <tbody>\n",
       "    <tr>\n",
       "      <th>0</th>\n",
       "      <td>2007-12-10</td>\n",
       "      <td>9.5908</td>\n",
       "    </tr>\n",
       "    <tr>\n",
       "      <th>1</th>\n",
       "      <td>2007-12-11</td>\n",
       "      <td>8.5196</td>\n",
       "    </tr>\n",
       "    <tr>\n",
       "      <th>2</th>\n",
       "      <td>2007-12-12</td>\n",
       "      <td>8.1837</td>\n",
       "    </tr>\n",
       "    <tr>\n",
       "      <th>3</th>\n",
       "      <td>2007-12-13</td>\n",
       "      <td>8.0725</td>\n",
       "    </tr>\n",
       "    <tr>\n",
       "      <th>4</th>\n",
       "      <td>2007-12-14</td>\n",
       "      <td>7.8936</td>\n",
       "    </tr>\n",
       "  </tbody>\n",
       "</table>\n",
       "</div>"
      ],
      "text/plain": [
       "           ds       y\n",
       "0  2007-12-10  9.5908\n",
       "1  2007-12-11  8.5196\n",
       "2  2007-12-12  8.1837\n",
       "3  2007-12-13  8.0725\n",
       "4  2007-12-14  7.8936"
      ]
     },
     "execution_count": 3,
     "metadata": {},
     "output_type": "execute_result"
    }
   ],
   "source": [
    "data_location = \"/home/ann/opt/iNeuralProphet/data\"\n",
    "df = pd.read_csv(data_location + \"/wp_log_peyton_manning.csv\")\n",
    "df.head()"
   ]
  },
  {
   "cell_type": "markdown",
   "id": "f1cf3c1d",
   "metadata": {},
   "source": [
    "# 1. 自定义季节性"
   ]
  },
  {
   "cell_type": "markdown",
   "id": "cefacdc2",
   "metadata": {},
   "source": [
    "例如，我们可以定义两个每周季节性：一个用于赛季足球，一个用于淡季足球。足球赛季从九月开始，一月后结束。我们通过向输入 df 添加包含二进制值（0 和 1）的两列来解释这一点，具体取决于条件是否在给定时间戳激活。请注意，还可以添加 0..1 之间的浮点来模拟更柔和的过渡。"
   ]
  },
  {
   "cell_type": "markdown",
   "id": "f3751588",
   "metadata": {},
   "source": [
    "当我们定义替代的每周季节性时，我们禁用了模型的默认季节性。"
   ]
  },
  {
   "cell_type": "code",
   "execution_count": 5,
   "id": "25e1b992",
   "metadata": {},
   "outputs": [],
   "source": [
    "df[\"ds\"] = pd.to_datetime(df[\"ds\"])\n",
    "df[\"on_season\"] = df[\"ds\"].apply(lambda x: x.month in [9, 10, 11, 12, 1])\n",
    "df[\"off_season\"] = df[\"ds\"].apply(lambda x: x.month not in [9, 10, 11, 12, 1])"
   ]
  },
  {
   "cell_type": "markdown",
   "id": "fad36782",
   "metadata": {},
   "source": [
    "period=7 意味着我们正在添加新的每周季节性。使用参数 condition_name= ，我们指定新添加的季节性应拟合到什么条件。即据月份这个“条件”来决定在特定的日期使用哪一种周模式。\n",
    "代码的目的是让模型学习两种不同的“星期几效应”：一种适用于旺季（9月-次年1月），另一种完全不同的“星期几效应”适用于淡季（2月-8月）"
   ]
  },
  {
   "cell_type": "markdown",
   "id": "b3bc101c",
   "metadata": {},
   "source": [
    "傅里叶阶数 (fourier_order) 决定了季节性曲线的复杂度和灵活度。\n",
    "\n",
    "•​工作原理​：傅里叶级数通过一系列正弦(sin)和余弦(cos)函数的组合来逼近任何周期性的波形。fourier_order决定了使用多少对这样的正弦余弦函数。\n",
    "\n",
    "•​值越大​ -> 使用的正弦余弦函数对越多 -> 拟合的曲线越复杂、波动越大 -> 越容易捕捉到更细微的周期性变化，但也更容易过拟合。\n",
    "\n",
    "•​值越小​ -> 使用的函数对越少 -> 拟合的曲线越平滑、越像一个简单的波 -> 更抗噪声，但可能无法捕捉复杂的模式。\n",
    "\n",
    "​fourier_order=3意味着什么？​​\n",
    "\n",
    "•它使用 ​3对​（即6个：sin1, cos1, sin2, cos2, sin3, cos3）正弦余弦函数来构建周季节性曲线。\n",
    "\n",
    "•这是一个中等偏下的复杂度，能够捕捉一周内比较明显的波动（例如，周末和工作日的显著差异），但不会过度拟合那些非常细微的、可能只是噪声的日间变化。\n",
    "\n",
    "•对于通常具有明显“周末效应”的数据（如销量、客流），fourier_order=3是一个常见且合理的起点"
   ]
  },
  {
   "cell_type": "code",
   "execution_count": 6,
   "id": "cf4c3bcc",
   "metadata": {},
   "outputs": [
    {
     "data": {
      "application/vnd.jupyter.widget-view+json": {
       "model_id": "d70a9eb5f7554097869edc2a62cc38e3",
       "version_major": 2,
       "version_minor": 0
      },
      "text/plain": [
       "Training: |          | 0/? [00:00<?, ?it/s]"
      ]
     },
     "metadata": {},
     "output_type": "display_data"
    },
    {
     "data": {
      "application/vnd.jupyter.widget-view+json": {
       "model_id": "88f98fb993a245a693e23f8d3370a4b9",
       "version_major": 2,
       "version_minor": 0
      },
      "text/plain": [
       "Finding best initial lr:   0%|          | 0/237 [00:00<?, ?it/s]"
      ]
     },
     "metadata": {},
     "output_type": "display_data"
    },
    {
     "data": {
      "application/vnd.jupyter.widget-view+json": {
       "model_id": "8faea15de0134f6abc6c4a15b817d91d",
       "version_major": 2,
       "version_minor": 0
      },
      "text/plain": [
       "Training: |          | 0/? [00:00<?, ?it/s]"
      ]
     },
     "metadata": {},
     "output_type": "display_data"
    }
   ],
   "source": [
    "m = NeuralProphet(weekly_seasonality=False)\n",
    "m.set_plotting_backend(\"plotly-static\")\n",
    "m.add_seasonality(\n",
    "    name=\"on_season\", period=7, fourier_order=3, condition_name=\"on_season\"\n",
    ")\n",
    "m.add_seasonality(\n",
    "    name=\"off_season\", period=7, fourier_order=3, condition_name=\"off_season\"\n",
    ")\n",
    "metrics = m.fit(df, freq=\"D\")"
   ]
  },
  {
   "cell_type": "markdown",
   "id": "2536d6f4",
   "metadata": {},
   "source": [
    "当预测未知的未来时，未来 df 必须以与输入 df 相同的方式扩展。"
   ]
  },
  {
   "cell_type": "code",
   "execution_count": 7,
   "id": "9e661975",
   "metadata": {},
   "outputs": [
    {
     "data": {
      "application/vnd.jupyter.widget-view+json": {
       "model_id": "aa9321f7ebee47c2985dd889513ee88c",
       "version_major": 2,
       "version_minor": 0
      },
      "text/plain": [
       "Predicting: |          | 0/? [00:00<?, ?it/s]"
      ]
     },
     "metadata": {},
     "output_type": "display_data"
    }
   ],
   "source": [
    "future = m.make_future_dataframe(df, n_historic_predictions=365, periods=365)\n",
    "future[\"on_season\"] = future[\"ds\"].apply(lambda x: x.month in [9, 10, 11, 12, 1])\n",
    "future[\"off_season\"] = future[\"ds\"].apply(lambda x: x.month not in [9, 10, 11, 12, 1])\n",
    "forecast = m.predict(df=future)"
   ]
  },
  {
   "cell_type": "code",
   "execution_count": 8,
   "id": "c8d8477e",
   "metadata": {},
   "outputs": [
    {
     "data": {
      "image/svg+xml": [
       "<svg class=\"main-svg\" xmlns=\"http://www.w3.org/2000/svg\" xmlns:xlink=\"http://www.w3.org/1999/xlink\" width=\"700\" height=\"630\" style=\"\" viewBox=\"0 0 700 630\"><rect x=\"0\" y=\"0\" width=\"700\" height=\"630\" style=\"fill: rgb(255, 255, 255); fill-opacity: 1;\"/><defs id=\"defs-45faa0\"><g class=\"clips\"><clipPath id=\"clip45faa0xyplot\" class=\"plotclip\"><rect width=\"643\" height=\"154.93333333333337\"/></clipPath><clipPath id=\"clip45faa0x2y2plot\" class=\"plotclip\"><rect width=\"643\" height=\"154.93333333333334\"/></clipPath><clipPath id=\"clip45faa0x3y3plot\" class=\"plotclip\"><rect width=\"643\" height=\"154.93333333333334\"/></clipPath><clipPath class=\"axesclip\" id=\"clip45faa0x\"><rect x=\"47\" y=\"0\" width=\"643\" height=\"630\"/></clipPath><clipPath class=\"axesclip\" id=\"clip45faa0y\"><rect x=\"0\" y=\"10\" width=\"700\" height=\"154.93333333333337\"/></clipPath><clipPath class=\"axesclip\" id=\"clip45faa0xy\"><rect x=\"47\" y=\"10\" width=\"643\" height=\"154.93333333333337\"/></clipPath><clipPath class=\"axesclip\" id=\"clip45faa0y2\"><rect x=\"0\" y=\"223.03333333333336\" width=\"700\" height=\"154.93333333333334\"/></clipPath><clipPath class=\"axesclip\" id=\"clip45faa0xy2\"><rect x=\"47\" y=\"223.03333333333336\" width=\"643\" height=\"154.93333333333334\"/></clipPath><clipPath class=\"axesclip\" id=\"clip45faa0y3\"><rect x=\"0\" y=\"436.0666666666667\" width=\"700\" height=\"154.93333333333334\"/></clipPath><clipPath class=\"axesclip\" id=\"clip45faa0xy3\"><rect x=\"47\" y=\"436.0666666666667\" width=\"643\" height=\"154.93333333333334\"/></clipPath><clipPath class=\"axesclip\" id=\"clip45faa0x2\"><rect x=\"47\" y=\"0\" width=\"643\" height=\"630\"/></clipPath><clipPath class=\"axesclip\" id=\"clip45faa0x2y\"><rect x=\"47\" y=\"10\" width=\"643\" height=\"154.93333333333337\"/></clipPath><clipPath class=\"axesclip\" id=\"clip45faa0x2y2\"><rect x=\"47\" y=\"223.03333333333336\" width=\"643\" height=\"154.93333333333334\"/></clipPath><clipPath class=\"axesclip\" id=\"clip45faa0x2y3\"><rect x=\"47\" y=\"436.0666666666667\" width=\"643\" height=\"154.93333333333334\"/></clipPath><clipPath class=\"axesclip\" id=\"clip45faa0x3\"><rect x=\"47\" y=\"0\" width=\"643\" height=\"630\"/></clipPath><clipPath class=\"axesclip\" id=\"clip45faa0x3y\"><rect x=\"47\" y=\"10\" width=\"643\" height=\"154.93333333333337\"/></clipPath><clipPath class=\"axesclip\" id=\"clip45faa0x3y2\"><rect x=\"47\" y=\"223.03333333333336\" width=\"643\" height=\"154.93333333333334\"/></clipPath><clipPath class=\"axesclip\" id=\"clip45faa0x3y3\"><rect x=\"47\" y=\"436.0666666666667\" width=\"643\" height=\"154.93333333333334\"/></clipPath></g><g class=\"gradients\"/><g class=\"patterns\"/></defs><g class=\"bglayer\"/><g class=\"layer-below\"><g class=\"imagelayer\"/><g class=\"shapelayer\"/></g><g class=\"cartesianlayer\"><g class=\"subplot xy\"><g class=\"layer-subplot\"><g class=\"shapelayer\"/><g class=\"imagelayer\"/></g><g class=\"minor-gridlayer\"><g class=\"x\"/><g class=\"y\"/></g><g class=\"gridlayer\"><g class=\"x\"><path class=\"xgrid crisp\" transform=\"translate(75.93,0)\" d=\"M0,10v154.93333333333337\" style=\"stroke: rgb(235, 240, 248); stroke-opacity: 1; stroke-width: 1px;\"/><path class=\"xgrid crisp\" transform=\"translate(170.78,0)\" d=\"M0,10v154.93333333333337\" style=\"stroke: rgb(235, 240, 248); stroke-opacity: 1; stroke-width: 1px;\"/><path class=\"xgrid crisp\" transform=\"translate(268.83000000000004,0)\" d=\"M0,10v154.93333333333337\" style=\"stroke: rgb(235, 240, 248); stroke-opacity: 1; stroke-width: 1px;\"/><path class=\"xgrid crisp\" transform=\"translate(366.89,0)\" d=\"M0,10v154.93333333333337\" style=\"stroke: rgb(235, 240, 248); stroke-opacity: 1; stroke-width: 1px;\"/><path class=\"xgrid crisp\" transform=\"translate(466.56,0)\" d=\"M0,10v154.93333333333337\" style=\"stroke: rgb(235, 240, 248); stroke-opacity: 1; stroke-width: 1px;\"/><path class=\"xgrid crisp\" transform=\"translate(564.61,0)\" d=\"M0,10v154.93333333333337\" style=\"stroke: rgb(235, 240, 248); stroke-opacity: 1; stroke-width: 1px;\"/><path class=\"xgrid crisp\" transform=\"translate(662.67,0)\" d=\"M0,10v154.93333333333337\" style=\"stroke: rgb(235, 240, 248); stroke-opacity: 1; stroke-width: 1px;\"/></g><g class=\"y\"><path class=\"ygrid crisp\" transform=\"translate(0,160.51)\" d=\"M47,0h643\" style=\"stroke: rgb(235, 240, 248); stroke-opacity: 1; stroke-width: 1px;\"/><path class=\"ygrid crisp\" transform=\"translate(0,126.27)\" d=\"M47,0h643\" style=\"stroke: rgb(235, 240, 248); stroke-opacity: 1; stroke-width: 1px;\"/><path class=\"ygrid crisp\" transform=\"translate(0,57.8)\" d=\"M47,0h643\" style=\"stroke: rgb(235, 240, 248); stroke-opacity: 1; stroke-width: 1px;\"/><path class=\"ygrid crisp\" transform=\"translate(0,23.57)\" d=\"M47,0h643\" style=\"stroke: rgb(235, 240, 248); stroke-opacity: 1; stroke-width: 1px;\"/></g></g><g class=\"zerolinelayer\"><path class=\"yzl zl crisp\" transform=\"translate(0,92.04)\" d=\"M47,0h643\" style=\"stroke: rgb(235, 240, 248); stroke-opacity: 1; stroke-width: 2px;\"/></g><g class=\"layer-between\"><g class=\"shapelayer\"/><g class=\"imagelayer\"/></g><path class=\"xlines-below\"/><path class=\"ylines-below\"/><g class=\"overlines-below\"/><g class=\"xaxislayer-below\"/><g class=\"yaxislayer-below\"/><g class=\"overaxes-below\"/><g class=\"overplot\"><g class=\"xy\" transform=\"translate(47,10)\" clip-path=\"url(#clip45faa0xyplot)\"><g class=\"scatterlayer mlayer\"><g class=\"trace scatter trace9b8561\" style=\"stroke-miterlimit: 2; opacity: 1;\"><g class=\"fills\"/><g class=\"errorbars\"/><g class=\"lines\"><path class=\"js-line\" d=\"M28.93,34.47L43.4,16.54L45.01,14.92L51.44,9.9L53.05,9.07L57.87,7.76L59.48,7.75L64.3,9.03L65.91,9.91L70.73,13.85L72.34,15.6L78.77,24.5L80.38,27.16L88.41,42.36L90.02,45.68L109.31,85.05L110.92,87.85L117.35,97.68L118.95,99.76L125.38,106.52L126.99,107.81L133.42,111.5L135.03,112.08L141.46,113.23L143.07,113.27L151.1,112.49L152.71,112.2L172,109.08L173.61,109.01L183.25,109.4L184.86,109.59L202.54,112.76L204.15,113.06L221.83,115.38L223.44,115.52L239.52,117.51L241.13,117.85L250.77,120.9L252.38,121.58L262.02,126.77L263.63,127.79L289.35,144.32L290.96,145.01L297.39,146.85L298.99,147.06L305.42,146.89L307.03,146.58L313.46,144.32L315.07,143.52L323.11,138.34L324.72,137.11L353.65,114.27L355.26,113.31L364.9,108.49L366.51,107.81L387.41,98.6L389.01,97.63L397.05,91.67L398.66,90.25L406.7,82L408.31,80.14L422.77,61.71L424.38,59.65L434.02,48.26L435.63,46.63L442.06,41.18L443.67,40.13L450.1,37.24L451.71,36.86L456.53,36.54L458.14,36.7L464.57,38.5L466.17,39.21L474.21,43.82L475.82,44.88L491.9,54.94L493.5,55.67L499.93,57.8L501.54,58.1L507.97,58.43L509.58,58.29L517.61,56.54L519.22,56.03L540.12,49.12L541.73,48.85L549.76,48.6L551.37,48.77L559.41,50.59L561.02,51.12L580.31,57.38L581.91,57.58L588.34,57.37L589.95,57.03L594.77,55.22L596.38,54.35L602.81,49.56L604.42,48.06L612.46,39.07L614.06,37.05\" style=\"vector-effect: none; fill: none; stroke: rgb(45, 146, 255); stroke-opacity: 1; stroke-width: 2px; opacity: 1;\"/></g><g class=\"points\"/><g class=\"text\"/></g></g></g></g><g class=\"zerolinelayer-above\"/><path class=\"xlines-above crisp\" d=\"M45.5,165.68333333333337H691.5M45.5,9.25H691.5\" style=\"fill: none; stroke-width: 1.5px; stroke: rgb(235, 240, 248); stroke-opacity: 1;\"/><path class=\"ylines-above crisp\" d=\"M46.25,10V164.93333333333337M690.75,10V164.93333333333337\" style=\"fill: none; stroke-width: 1.5px; stroke: rgb(235, 240, 248); stroke-opacity: 1;\"/><g class=\"overlines-above\"/><g class=\"xaxislayer-above\"><g class=\"xtick\"><text text-anchor=\"middle\" x=\"0\" y=\"178.43333333333337\" transform=\"translate(75.93,0)\" style=\"font-family: 'Open Sans', verdana, arial, sans-serif; font-size: 10px; fill: rgb(42, 63, 95); fill-opacity: 1; white-space: pre;\">January  1</text></g><g class=\"xtick\"><text text-anchor=\"middle\" x=\"0\" y=\"178.43333333333337\" style=\"font-family: 'Open Sans', verdana, arial, sans-serif; font-size: 10px; fill: rgb(42, 63, 95); fill-opacity: 1; white-space: pre;\" transform=\"translate(170.78,0)\">March  1</text></g><g class=\"xtick\"><text text-anchor=\"middle\" x=\"0\" y=\"178.43333333333337\" style=\"font-family: 'Open Sans', verdana, arial, sans-serif; font-size: 10px; fill: rgb(42, 63, 95); fill-opacity: 1; white-space: pre;\" transform=\"translate(268.83000000000004,0)\">May  1</text></g><g class=\"xtick\"><text text-anchor=\"middle\" x=\"0\" y=\"178.43333333333337\" style=\"font-family: 'Open Sans', verdana, arial, sans-serif; font-size: 10px; fill: rgb(42, 63, 95); fill-opacity: 1; white-space: pre;\" transform=\"translate(366.89,0)\">July  1</text></g><g class=\"xtick\"><text text-anchor=\"middle\" x=\"0\" y=\"178.43333333333337\" style=\"font-family: 'Open Sans', verdana, arial, sans-serif; font-size: 10px; fill: rgb(42, 63, 95); fill-opacity: 1; white-space: pre;\" transform=\"translate(466.56,0)\">September  1</text></g><g class=\"xtick\"><text text-anchor=\"middle\" x=\"0\" y=\"178.43333333333337\" style=\"font-family: 'Open Sans', verdana, arial, sans-serif; font-size: 10px; fill: rgb(42, 63, 95); fill-opacity: 1; white-space: pre;\" transform=\"translate(564.61,0)\">November  1</text></g><g class=\"xtick\"><text text-anchor=\"middle\" x=\"0\" y=\"178.43333333333337\" style=\"font-family: 'Open Sans', verdana, arial, sans-serif; font-size: 10px; fill: rgb(42, 63, 95); fill-opacity: 1; white-space: pre;\" transform=\"translate(662.67,0)\">January  1</text></g></g><g class=\"yaxislayer-above\"><g class=\"ytick\"><text text-anchor=\"end\" x=\"43.5\" y=\"3.5\" transform=\"translate(0,160.51)\" style=\"font-family: 'Open Sans', verdana, arial, sans-serif; font-size: 10px; fill: rgb(42, 63, 95); fill-opacity: 1; white-space: pre;\">−1</text></g><g class=\"ytick\"><text text-anchor=\"end\" x=\"43.5\" y=\"3.5\" style=\"font-family: 'Open Sans', verdana, arial, sans-serif; font-size: 10px; fill: rgb(42, 63, 95); fill-opacity: 1; white-space: pre;\" transform=\"translate(0,126.27)\">−0.5</text></g><g class=\"ytick\"><text text-anchor=\"end\" x=\"43.5\" y=\"3.5\" style=\"font-family: 'Open Sans', verdana, arial, sans-serif; font-size: 10px; fill: rgb(42, 63, 95); fill-opacity: 1; white-space: pre;\" transform=\"translate(0,92.04)\">0</text></g><g class=\"ytick\"><text text-anchor=\"end\" x=\"43.5\" y=\"3.5\" style=\"font-family: 'Open Sans', verdana, arial, sans-serif; font-size: 10px; fill: rgb(42, 63, 95); fill-opacity: 1; white-space: pre;\" transform=\"translate(0,57.8)\">0.5</text></g><g class=\"ytick\"><text text-anchor=\"end\" x=\"43.5\" y=\"3.5\" style=\"font-family: 'Open Sans', verdana, arial, sans-serif; font-size: 10px; fill: rgb(42, 63, 95); fill-opacity: 1; white-space: pre;\" transform=\"translate(0,23.57)\">1</text></g></g><g class=\"overaxes-above\"/></g><g class=\"subplot x2y2\"><g class=\"layer-subplot\"><g class=\"shapelayer\"/><g class=\"imagelayer\"/></g><g class=\"minor-gridlayer\"><g class=\"x2\"/><g class=\"y2\"/></g><g class=\"gridlayer\"><g class=\"x2\"><path class=\"x2grid crisp\" transform=\"translate(159.44,0)\" d=\"M0,223.03333333333336v154.93333333333334\" style=\"stroke: rgb(235, 240, 248); stroke-opacity: 1; stroke-width: 1px;\"/><path class=\"x2grid crisp\" transform=\"translate(243.77,0)\" d=\"M0,223.03333333333336v154.93333333333334\" style=\"stroke: rgb(235, 240, 248); stroke-opacity: 1; stroke-width: 1px;\"/><path class=\"x2grid crisp\" transform=\"translate(328.09,0)\" d=\"M0,223.03333333333336v154.93333333333334\" style=\"stroke: rgb(235, 240, 248); stroke-opacity: 1; stroke-width: 1px;\"/><path class=\"x2grid crisp\" transform=\"translate(412.42,0)\" d=\"M0,223.03333333333336v154.93333333333334\" style=\"stroke: rgb(235, 240, 248); stroke-opacity: 1; stroke-width: 1px;\"/><path class=\"x2grid crisp\" transform=\"translate(496.75,0)\" d=\"M0,223.03333333333336v154.93333333333334\" style=\"stroke: rgb(235, 240, 248); stroke-opacity: 1; stroke-width: 1px;\"/><path class=\"x2grid crisp\" transform=\"translate(581.08,0)\" d=\"M0,223.03333333333336v154.93333333333334\" style=\"stroke: rgb(235, 240, 248); stroke-opacity: 1; stroke-width: 1px;\"/><path class=\"x2grid crisp\" transform=\"translate(665.4,0)\" d=\"M0,223.03333333333336v154.93333333333334\" style=\"stroke: rgb(235, 240, 248); stroke-opacity: 1; stroke-width: 1px;\"/></g><g class=\"y2\"><path class=\"y2grid crisp\" transform=\"translate(0,372.33333333333337)\" d=\"M47,0h643\" style=\"stroke: rgb(235, 240, 248); stroke-opacity: 1; stroke-width: 1px;\"/><path class=\"y2grid crisp\" transform=\"translate(0,256.87333333333333)\" d=\"M47,0h643\" style=\"stroke: rgb(235, 240, 248); stroke-opacity: 1; stroke-width: 1px;\"/></g></g><g class=\"zerolinelayer\"><path class=\"x2zl zl crisp\" transform=\"translate(75.11,0)\" d=\"M0,223.03333333333336v154.93333333333334\" style=\"stroke: rgb(235, 240, 248); stroke-opacity: 1; stroke-width: 2px;\"/><path class=\"y2zl zl crisp\" transform=\"translate(0,314.60333333333335)\" d=\"M47,0h643\" style=\"stroke: rgb(235, 240, 248); stroke-opacity: 1; stroke-width: 2px;\"/></g><g class=\"layer-between\"><g class=\"shapelayer\"/><g class=\"imagelayer\"/></g><path class=\"xlines-below\"/><path class=\"ylines-below\"/><g class=\"overlines-below\"/><g class=\"xaxislayer-below\"/><g class=\"yaxislayer-below\"/><g class=\"overaxes-below\"/><g class=\"overplot\"><g class=\"x2y2\" transform=\"translate(47,223.03333333333336)\" clip-path=\"url(#clip45faa0x2y2plot)\"><g class=\"scatterlayer mlayer\"><g class=\"trace scatter trace547675\" style=\"stroke-miterlimit: 2; opacity: 1;\"><g class=\"fills\"/><g class=\"errorbars\"/><g class=\"lines\"><path class=\"js-line\" d=\"M28.11,60.95L42.16,42.16L45.68,37.97L56.22,26.57L59.73,23.44L70.27,15.42L73.79,13.29L84.33,9.11L87.84,8.34L94.87,7.75L98.38,7.89L105.41,9L108.92,9.98L119.46,14.16L122.98,16.09L137.03,25.03L140.55,27.71L161.63,44.45L165.14,47.3L193.25,69.06L196.77,71.55L217.85,85.35L221.36,87.4L242.44,98.98L245.96,100.74L270.55,112.11L274.07,113.64L295.15,121.01L298.66,122.04L312.72,124.98L316.23,125.44L326.77,126.25L330.28,126.26L344.34,125.2L347.85,124.68L361.91,121.64L365.42,120.71L404.07,110.16L407.58,109.51L418.13,108.45L421.64,108.37L432.18,109.08L435.69,109.67L446.23,112.34L449.75,113.55L460.29,118.04L463.8,119.75L488.4,133.46L491.91,135.47L502.45,140.79L505.97,142.27L516.51,145.78L520.02,146.48L527.05,147.19L530.56,147.13L537.59,146.13L541.1,145.18L548.13,142.17L551.64,140.26L558.67,135.59L562.19,132.7L572.73,122.68L576.24,118.6L590.3,101.02L593.81,95.98L614.89,65.74\" style=\"vector-effect: none; fill: none; stroke: rgb(45, 146, 255); stroke-opacity: 1; stroke-width: 2px; opacity: 1;\"/></g><g class=\"points\"/><g class=\"text\"/></g></g></g></g><g class=\"zerolinelayer-above\"/><path class=\"xlines-above crisp\" d=\"M45.5,378.7166666666667H691.5M45.5,222.28333333333336H691.5\" style=\"fill: none; stroke-width: 1.5px; stroke: rgb(235, 240, 248); stroke-opacity: 1;\"/><path class=\"ylines-above crisp\" d=\"M46.25,223.03333333333336V377.9666666666667M690.75,223.03333333333336V377.9666666666667\" style=\"fill: none; stroke-width: 1.5px; stroke: rgb(235, 240, 248); stroke-opacity: 1;\"/><g class=\"overlines-above\"/><g class=\"xaxislayer-above\"><g class=\"x2tick\"><text text-anchor=\"middle\" x=\"0\" y=\"391.4666666666667\" transform=\"translate(75.11,0)\" style=\"font-family: 'Open Sans', verdana, arial, sans-serif; font-size: 10px; fill: rgb(42, 63, 95); fill-opacity: 1; white-space: pre;\">Sunday</text></g><g class=\"x2tick\"><text text-anchor=\"middle\" x=\"0\" y=\"391.4666666666667\" style=\"font-family: 'Open Sans', verdana, arial, sans-serif; font-size: 10px; fill: rgb(42, 63, 95); fill-opacity: 1; white-space: pre;\" transform=\"translate(159.44,0)\">Monday</text></g><g class=\"x2tick\"><text text-anchor=\"middle\" x=\"0\" y=\"391.4666666666667\" style=\"font-family: 'Open Sans', verdana, arial, sans-serif; font-size: 10px; fill: rgb(42, 63, 95); fill-opacity: 1; white-space: pre;\" transform=\"translate(243.77,0)\">Tuesday</text></g><g class=\"x2tick\"><text text-anchor=\"middle\" x=\"0\" y=\"391.4666666666667\" style=\"font-family: 'Open Sans', verdana, arial, sans-serif; font-size: 10px; fill: rgb(42, 63, 95); fill-opacity: 1; white-space: pre;\" transform=\"translate(328.09,0)\">Wednesday</text></g><g class=\"x2tick\"><text text-anchor=\"middle\" x=\"0\" y=\"391.4666666666667\" style=\"font-family: 'Open Sans', verdana, arial, sans-serif; font-size: 10px; fill: rgb(42, 63, 95); fill-opacity: 1; white-space: pre;\" transform=\"translate(412.42,0)\">Thursday</text></g><g class=\"x2tick\"><text text-anchor=\"middle\" x=\"0\" y=\"391.4666666666667\" style=\"font-family: 'Open Sans', verdana, arial, sans-serif; font-size: 10px; fill: rgb(42, 63, 95); fill-opacity: 1; white-space: pre;\" transform=\"translate(496.75,0)\">Friday</text></g><g class=\"x2tick\"><text text-anchor=\"middle\" x=\"0\" y=\"391.4666666666667\" style=\"font-family: 'Open Sans', verdana, arial, sans-serif; font-size: 10px; fill: rgb(42, 63, 95); fill-opacity: 1; white-space: pre;\" transform=\"translate(581.08,0)\">Saturday</text></g><g class=\"x2tick\"><text text-anchor=\"middle\" x=\"0\" y=\"391.4666666666667\" style=\"font-family: 'Open Sans', verdana, arial, sans-serif; font-size: 10px; fill: rgb(42, 63, 95); fill-opacity: 1; white-space: pre;\" transform=\"translate(665.4,0)\">Sunday</text></g></g><g class=\"yaxislayer-above\"><g class=\"y2tick\"><text text-anchor=\"end\" x=\"43.5\" y=\"3.5\" transform=\"translate(0,372.33333333333337)\" style=\"font-family: 'Open Sans', verdana, arial, sans-serif; font-size: 10px; fill: rgb(42, 63, 95); fill-opacity: 1; white-space: pre;\">−0.5</text></g><g class=\"y2tick\"><text text-anchor=\"end\" x=\"43.5\" y=\"3.5\" style=\"font-family: 'Open Sans', verdana, arial, sans-serif; font-size: 10px; fill: rgb(42, 63, 95); fill-opacity: 1; white-space: pre;\" transform=\"translate(0,314.60333333333335)\">0</text></g><g class=\"y2tick\"><text text-anchor=\"end\" x=\"43.5\" y=\"3.5\" style=\"font-family: 'Open Sans', verdana, arial, sans-serif; font-size: 10px; fill: rgb(42, 63, 95); fill-opacity: 1; white-space: pre;\" transform=\"translate(0,256.87333333333333)\">0.5</text></g></g><g class=\"overaxes-above\"/></g><g class=\"subplot x3y3\"><g class=\"layer-subplot\"><g class=\"shapelayer\"/><g class=\"imagelayer\"/></g><g class=\"minor-gridlayer\"><g class=\"x3\"/><g class=\"y3\"/></g><g class=\"gridlayer\"><g class=\"x3\"><path class=\"x3grid crisp\" transform=\"translate(159.44,0)\" d=\"M0,436.0666666666667v154.93333333333334\" style=\"stroke: rgb(235, 240, 248); stroke-opacity: 1; stroke-width: 1px;\"/><path class=\"x3grid crisp\" transform=\"translate(243.77,0)\" d=\"M0,436.0666666666667v154.93333333333334\" style=\"stroke: rgb(235, 240, 248); stroke-opacity: 1; stroke-width: 1px;\"/><path class=\"x3grid crisp\" transform=\"translate(328.09,0)\" d=\"M0,436.0666666666667v154.93333333333334\" style=\"stroke: rgb(235, 240, 248); stroke-opacity: 1; stroke-width: 1px;\"/><path class=\"x3grid crisp\" transform=\"translate(412.42,0)\" d=\"M0,436.0666666666667v154.93333333333334\" style=\"stroke: rgb(235, 240, 248); stroke-opacity: 1; stroke-width: 1px;\"/><path class=\"x3grid crisp\" transform=\"translate(496.75,0)\" d=\"M0,436.0666666666667v154.93333333333334\" style=\"stroke: rgb(235, 240, 248); stroke-opacity: 1; stroke-width: 1px;\"/><path class=\"x3grid crisp\" transform=\"translate(581.08,0)\" d=\"M0,436.0666666666667v154.93333333333334\" style=\"stroke: rgb(235, 240, 248); stroke-opacity: 1; stroke-width: 1px;\"/><path class=\"x3grid crisp\" transform=\"translate(665.4,0)\" d=\"M0,436.0666666666667v154.93333333333334\" style=\"stroke: rgb(235, 240, 248); stroke-opacity: 1; stroke-width: 1px;\"/></g><g class=\"y3\"><path class=\"y3grid crisp\" transform=\"translate(0,580.6366666666668)\" d=\"M47,0h643\" style=\"stroke: rgb(235, 240, 248); stroke-opacity: 1; stroke-width: 1px;\"/><path class=\"y3grid crisp\" transform=\"translate(0,534.1066666666667)\" d=\"M47,0h643\" style=\"stroke: rgb(235, 240, 248); stroke-opacity: 1; stroke-width: 1px;\"/><path class=\"y3grid crisp\" transform=\"translate(0,441.0666666666667)\" d=\"M47,0h643\" style=\"stroke: rgb(235, 240, 248); stroke-opacity: 1; stroke-width: 1px;\"/></g></g><g class=\"zerolinelayer\"><path class=\"x3zl zl crisp\" transform=\"translate(75.11,0)\" d=\"M0,436.0666666666667v154.93333333333334\" style=\"stroke: rgb(235, 240, 248); stroke-opacity: 1; stroke-width: 2px;\"/><path class=\"y3zl zl crisp\" transform=\"translate(0,487.5866666666667)\" d=\"M47,0h643\" style=\"stroke: rgb(235, 240, 248); stroke-opacity: 1; stroke-width: 2px;\"/></g><g class=\"layer-between\"><g class=\"shapelayer\"/><g class=\"imagelayer\"/></g><path class=\"xlines-below\"/><path class=\"ylines-below\"/><g class=\"overlines-below\"/><g class=\"xaxislayer-below\"/><g class=\"yaxislayer-below\"/><g class=\"overaxes-below\"/><g class=\"overplot\"><g class=\"x3y3\" transform=\"translate(47,436.0666666666667)\" clip-path=\"url(#clip45faa0x3y3plot)\"><g class=\"scatterlayer mlayer\"><g class=\"trace scatter traceef0466\" style=\"stroke-miterlimit: 2; opacity: 1;\"><g class=\"fills\"/><g class=\"errorbars\"/><g class=\"lines\"><path class=\"js-line\" d=\"M28.11,109.41L49.19,82.95L52.7,78.54L63.25,65.55L66.76,61.44L80.81,46.16L84.33,42.8L94.87,33.86L98.38,31.13L108.92,24.6L112.44,22.81L122.98,18.58L126.49,17.57L137.03,15.49L140.55,15.08L154.6,14.81L158.11,15.01L175.68,17.03L179.2,17.58L231.9,25.92L235.42,26.26L252.98,27.61L256.5,27.78L277.58,27.78L281.09,27.63L302.17,25.64L305.69,25.18L330.28,20.27L333.8,19.4L379.48,8.71L382.99,8.29L393.53,7.75L397.04,7.9L407.58,9.23L411.1,10.11L421.64,13.87L425.15,15.6L435.69,22.21L439.21,24.76L449.75,34.02L453.26,37.41L463.8,49.18L467.32,53.49L477.86,66.96L481.37,71.58L516.51,117.28L520.02,121.2L530.56,131.92L534.08,134.81L544.62,142.02L548.13,143.82L555.16,146.18L558.67,146.86L565.7,147.15L569.21,146.77L576.24,144.91L579.75,143.43L586.78,139.64L590.3,137.31L600.84,128.47L604.35,124.96L614.89,113.4\" style=\"vector-effect: none; fill: none; stroke: rgb(45, 146, 255); stroke-opacity: 1; stroke-width: 2px; opacity: 1;\"/></g><g class=\"points\"/><g class=\"text\"/></g></g></g></g><g class=\"zerolinelayer-above\"/><path class=\"xlines-above crisp\" d=\"M45.5,591.75H691.5M45.5,435.3166666666667H691.5\" style=\"fill: none; stroke-width: 1.5px; stroke: rgb(235, 240, 248); stroke-opacity: 1;\"/><path class=\"ylines-above crisp\" d=\"M46.25,436.0666666666667V591M690.75,436.0666666666667V591\" style=\"fill: none; stroke-width: 1.5px; stroke: rgb(235, 240, 248); stroke-opacity: 1;\"/><g class=\"overlines-above\"/><g class=\"xaxislayer-above\"><g class=\"x3tick\"><text text-anchor=\"middle\" x=\"0\" y=\"604.5\" transform=\"translate(75.11,0)\" style=\"font-family: 'Open Sans', verdana, arial, sans-serif; font-size: 10px; fill: rgb(42, 63, 95); fill-opacity: 1; white-space: pre;\">Sunday</text></g><g class=\"x3tick\"><text text-anchor=\"middle\" x=\"0\" y=\"604.5\" style=\"font-family: 'Open Sans', verdana, arial, sans-serif; font-size: 10px; fill: rgb(42, 63, 95); fill-opacity: 1; white-space: pre;\" transform=\"translate(159.44,0)\">Monday</text></g><g class=\"x3tick\"><text text-anchor=\"middle\" x=\"0\" y=\"604.5\" style=\"font-family: 'Open Sans', verdana, arial, sans-serif; font-size: 10px; fill: rgb(42, 63, 95); fill-opacity: 1; white-space: pre;\" transform=\"translate(243.77,0)\">Tuesday</text></g><g class=\"x3tick\"><text text-anchor=\"middle\" x=\"0\" y=\"604.5\" style=\"font-family: 'Open Sans', verdana, arial, sans-serif; font-size: 10px; fill: rgb(42, 63, 95); fill-opacity: 1; white-space: pre;\" transform=\"translate(328.09,0)\">Wednesday</text></g><g class=\"x3tick\"><text text-anchor=\"middle\" x=\"0\" y=\"604.5\" style=\"font-family: 'Open Sans', verdana, arial, sans-serif; font-size: 10px; fill: rgb(42, 63, 95); fill-opacity: 1; white-space: pre;\" transform=\"translate(412.42,0)\">Thursday</text></g><g class=\"x3tick\"><text text-anchor=\"middle\" x=\"0\" y=\"604.5\" style=\"font-family: 'Open Sans', verdana, arial, sans-serif; font-size: 10px; fill: rgb(42, 63, 95); fill-opacity: 1; white-space: pre;\" transform=\"translate(496.75,0)\">Friday</text></g><g class=\"x3tick\"><text text-anchor=\"middle\" x=\"0\" y=\"604.5\" style=\"font-family: 'Open Sans', verdana, arial, sans-serif; font-size: 10px; fill: rgb(42, 63, 95); fill-opacity: 1; white-space: pre;\" transform=\"translate(581.08,0)\">Saturday</text></g><g class=\"x3tick\"><text text-anchor=\"middle\" x=\"0\" y=\"604.5\" style=\"font-family: 'Open Sans', verdana, arial, sans-serif; font-size: 10px; fill: rgb(42, 63, 95); fill-opacity: 1; white-space: pre;\" transform=\"translate(665.4,0)\">Sunday</text></g></g><g class=\"yaxislayer-above\"><g class=\"y3tick\"><text text-anchor=\"end\" x=\"43.5\" y=\"3.5\" transform=\"translate(0,580.6366666666668)\" style=\"font-family: 'Open Sans', verdana, arial, sans-serif; font-size: 10px; fill: rgb(42, 63, 95); fill-opacity: 1; white-space: pre;\">−0.2</text></g><g class=\"y3tick\"><text text-anchor=\"end\" x=\"43.5\" y=\"3.5\" style=\"font-family: 'Open Sans', verdana, arial, sans-serif; font-size: 10px; fill: rgb(42, 63, 95); fill-opacity: 1; white-space: pre;\" transform=\"translate(0,534.1066666666667)\">−0.1</text></g><g class=\"y3tick\"><text text-anchor=\"end\" x=\"43.5\" y=\"3.5\" style=\"font-family: 'Open Sans', verdana, arial, sans-serif; font-size: 10px; fill: rgb(42, 63, 95); fill-opacity: 1; white-space: pre;\" transform=\"translate(0,487.5866666666667)\">0</text></g><g class=\"y3tick\"><text text-anchor=\"end\" x=\"43.5\" y=\"3.5\" style=\"font-family: 'Open Sans', verdana, arial, sans-serif; font-size: 10px; fill: rgb(42, 63, 95); fill-opacity: 1; white-space: pre;\" transform=\"translate(0,441.0666666666667)\">0.1</text></g></g><g class=\"overaxes-above\"/></g></g><g class=\"polarlayer\"/><g class=\"smithlayer\"/><g class=\"ternarylayer\"/><g class=\"geolayer\"/><g class=\"funnelarealayer\"/><g class=\"pielayer\"/><g class=\"iciclelayer\"/><g class=\"treemaplayer\"/><g class=\"sunburstlayer\"/><g class=\"glimages\"/><defs id=\"topdefs-45faa0\"><g class=\"clips\"/></defs><g class=\"layer-above\"><g class=\"imagelayer\"/><g class=\"shapelayer\"/></g><g class=\"infolayer\"><g class=\"g-gtitle\"/><g class=\"g-xtitle\"><text class=\"xtitle\" x=\"368.5\" y=\"203.0875\" text-anchor=\"middle\" style=\"opacity: 1; font-family: 'Open Sans', verdana, arial, sans-serif; font-size: 12px; fill: rgb(42, 63, 95); fill-opacity: 1; white-space: pre;\">Day of year</text></g><g class=\"g-x2title\"><text class=\"x2title\" x=\"368.5\" y=\"416.11875\" text-anchor=\"middle\" style=\"opacity: 1; font-family: 'Open Sans', verdana, arial, sans-serif; font-size: 12px; fill: rgb(42, 63, 95); fill-opacity: 1; white-space: pre;\">Day of week</text></g><g class=\"g-x3title\" transform=\"translate(0,-2.1499999999999773)\"><text class=\"x3title\" x=\"368.5\" y=\"629.15\" text-anchor=\"middle\" style=\"opacity: 1; font-family: 'Open Sans', verdana, arial, sans-serif; font-size: 12px; fill: rgb(42, 63, 95); fill-opacity: 1; white-space: pre;\">Day of week</text></g><g class=\"g-ytitle\" transform=\"translate(5.7138671875,0)\"><text class=\"ytitle\" transform=\"rotate(-90,5.299999999999997,87.46666666666668)\" x=\"5.299999999999997\" y=\"87.46666666666668\" text-anchor=\"middle\" style=\"opacity: 1; font-family: 'Open Sans', verdana, arial, sans-serif; font-size: 12px; fill: rgb(42, 63, 95); fill-opacity: 1; white-space: pre;\">Seasonality: yearly</text></g><g class=\"g-y2title\" transform=\"translate(5.7001953125,0)\"><text class=\"y2title\" transform=\"rotate(-90,5.299999999999997,300.5)\" x=\"5.299999999999997\" y=\"300.5\" text-anchor=\"middle\" style=\"opacity: 1; font-family: 'Open Sans', verdana, arial, sans-serif; font-size: 12px; fill: rgb(42, 63, 95); fill-opacity: 1; white-space: pre;\">Seasonality: on_season</text></g><g class=\"g-y3title\" transform=\"translate(5.7021484375,0)\"><text class=\"y3title\" transform=\"rotate(-90,5.299999999999997,513.5333333333334)\" x=\"5.299999999999997\" y=\"513.5333333333334\" text-anchor=\"middle\" style=\"opacity: 1; font-family: 'Open Sans', verdana, arial, sans-serif; font-size: 12px; fill: rgb(42, 63, 95); fill-opacity: 1; white-space: pre;\">Seasonality: off_season</text></g></g></svg>"
      ]
     },
     "metadata": {},
     "output_type": "display_data"
    }
   ],
   "source": [
    "m.plot_parameters(components=\"seasonality\")"
   ]
  },
  {
   "cell_type": "markdown",
   "id": "ef5564a0",
   "metadata": {},
   "source": [
    "# 预定义条件季节性"
   ]
  },
  {
   "cell_type": "markdown",
   "id": "42640499",
   "metadata": {},
   "source": [
    "NeuralProphet 还提供了预定义的条件（季度、工作日/周末），这些条件通过简单的函数调用添加到输入 df 中"
   ]
  },
  {
   "cell_type": "markdown",
   "id": "0328355e",
   "metadata": {},
   "source": [
    "以下示例，我们希望合并每季度变化的每周季节性。"
   ]
  },
  {
   "cell_type": "code",
   "execution_count": 14,
   "id": "2d8159fb",
   "metadata": {},
   "outputs": [
    {
     "data": {
      "text/html": [
       "<div>\n",
       "<style scoped>\n",
       "    .dataframe tbody tr th:only-of-type {\n",
       "        vertical-align: middle;\n",
       "    }\n",
       "\n",
       "    .dataframe tbody tr th {\n",
       "        vertical-align: top;\n",
       "    }\n",
       "\n",
       "    .dataframe thead th {\n",
       "        text-align: right;\n",
       "    }\n",
       "</style>\n",
       "<table border=\"1\" class=\"dataframe\">\n",
       "  <thead>\n",
       "    <tr style=\"text-align: right;\">\n",
       "      <th></th>\n",
       "      <th>ds</th>\n",
       "      <th>y</th>\n",
       "      <th>summer</th>\n",
       "      <th>winter</th>\n",
       "      <th>spring</th>\n",
       "      <th>fall</th>\n",
       "    </tr>\n",
       "  </thead>\n",
       "  <tbody>\n",
       "    <tr>\n",
       "      <th>0</th>\n",
       "      <td>2007-12-10</td>\n",
       "      <td>9.5908</td>\n",
       "      <td>0</td>\n",
       "      <td>1</td>\n",
       "      <td>0</td>\n",
       "      <td>0</td>\n",
       "    </tr>\n",
       "    <tr>\n",
       "      <th>1</th>\n",
       "      <td>2007-12-11</td>\n",
       "      <td>8.5196</td>\n",
       "      <td>0</td>\n",
       "      <td>1</td>\n",
       "      <td>0</td>\n",
       "      <td>0</td>\n",
       "    </tr>\n",
       "    <tr>\n",
       "      <th>2</th>\n",
       "      <td>2007-12-12</td>\n",
       "      <td>8.1837</td>\n",
       "      <td>0</td>\n",
       "      <td>1</td>\n",
       "      <td>0</td>\n",
       "      <td>0</td>\n",
       "    </tr>\n",
       "    <tr>\n",
       "      <th>3</th>\n",
       "      <td>2007-12-13</td>\n",
       "      <td>8.0725</td>\n",
       "      <td>0</td>\n",
       "      <td>1</td>\n",
       "      <td>0</td>\n",
       "      <td>0</td>\n",
       "    </tr>\n",
       "    <tr>\n",
       "      <th>4</th>\n",
       "      <td>2007-12-14</td>\n",
       "      <td>7.8936</td>\n",
       "      <td>0</td>\n",
       "      <td>1</td>\n",
       "      <td>0</td>\n",
       "      <td>0</td>\n",
       "    </tr>\n",
       "  </tbody>\n",
       "</table>\n",
       "</div>"
      ],
      "text/plain": [
       "          ds       y  summer  winter  spring  fall\n",
       "0 2007-12-10  9.5908       0       1       0     0\n",
       "1 2007-12-11  8.5196       0       1       0     0\n",
       "2 2007-12-12  8.1837       0       1       0     0\n",
       "3 2007-12-13  8.0725       0       1       0     0\n",
       "4 2007-12-14  7.8936       0       1       0     0"
      ]
     },
     "execution_count": 14,
     "metadata": {},
     "output_type": "execute_result"
    }
   ],
   "source": [
    "df = pd.read_csv(data_location + \"/wp_log_peyton_manning.csv\")\n",
    "df = df_utils.add_quarter_condition(df)\n",
    "df.head()"
   ]
  },
  {
   "cell_type": "code",
   "execution_count": 15,
   "id": "3646096a",
   "metadata": {},
   "outputs": [
    {
     "data": {
      "application/vnd.jupyter.widget-view+json": {
       "model_id": "ca17dd0b60a741d2aac585059b8a2f14",
       "version_major": 2,
       "version_minor": 0
      },
      "text/plain": [
       "Training: |          | 0/? [00:00<?, ?it/s]"
      ]
     },
     "metadata": {},
     "output_type": "display_data"
    },
    {
     "data": {
      "application/vnd.jupyter.widget-view+json": {
       "model_id": "73847b68ee984bc9a3b36c531bc862d9",
       "version_major": 2,
       "version_minor": 0
      },
      "text/plain": [
       "Finding best initial lr:   0%|          | 0/237 [00:00<?, ?it/s]"
      ]
     },
     "metadata": {},
     "output_type": "display_data"
    },
    {
     "data": {
      "application/vnd.jupyter.widget-view+json": {
       "model_id": "d34ffbdace9149f1a426a5a43cdbb113",
       "version_major": 2,
       "version_minor": 0
      },
      "text/plain": [
       "Training: |          | 0/? [00:00<?, ?it/s]"
      ]
     },
     "metadata": {},
     "output_type": "display_data"
    }
   ],
   "source": [
    "m = NeuralProphet(weekly_seasonality=False)\n",
    "m.set_plotting_backend(\"plotly-static\")\n",
    "m.add_seasonality(\n",
    "    name=\"weekly_summer\", period=7, fourier_order=3, condition_name=\"summer\"\n",
    ")\n",
    "m.add_seasonality(name=\"weekly_fall\", period=7, fourier_order=3, condition_name=\"fall\")\n",
    "m.add_seasonality(\n",
    "    name=\"weekly_winter\", period=7, fourier_order=3, condition_name=\"winter\"\n",
    ")\n",
    "m.add_seasonality(\n",
    "    name=\"weekly_spring\", period=7, fourier_order=3, condition_name=\"spring\"\n",
    ")\n",
    "metrics = m.fit(df, freq=\"D\")"
   ]
  },
  {
   "cell_type": "code",
   "execution_count": 16,
   "id": "0ba365cd",
   "metadata": {},
   "outputs": [
    {
     "data": {
      "application/vnd.jupyter.widget-view+json": {
       "model_id": "45ba331902724ecd9af0a6347ea9b787",
       "version_major": 2,
       "version_minor": 0
      },
      "text/plain": [
       "Predicting: |          | 0/? [00:00<?, ?it/s]"
      ]
     },
     "metadata": {},
     "output_type": "display_data"
    }
   ],
   "source": [
    "future = m.make_future_dataframe(df, n_historic_predictions=365, periods=365)\n",
    "future = df_utils.add_quarter_condition(future)\n",
    "forecast = m.predict(df=future)"
   ]
  },
  {
   "cell_type": "code",
   "execution_count": 17,
   "id": "d5a01978",
   "metadata": {},
   "outputs": [
    {
     "data": {
      "image/svg+xml": [
       "<svg class=\"main-svg\" xmlns=\"http://www.w3.org/2000/svg\" xmlns:xlink=\"http://www.w3.org/1999/xlink\" width=\"700\" height=\"1050\" style=\"\" viewBox=\"0 0 700 1050\"><rect x=\"0\" y=\"0\" width=\"700\" height=\"1050\" style=\"fill: rgb(255, 255, 255); fill-opacity: 1;\"/><defs id=\"defs-7e153b\"><g class=\"clips\"><clipPath id=\"clip7e153bxyplot\" class=\"plotclip\"><rect width=\"643\" height=\"152.15200000000002\"/></clipPath><clipPath id=\"clip7e153bx2y2plot\" class=\"plotclip\"><rect width=\"643\" height=\"152.15200000000002\"/></clipPath><clipPath id=\"clip7e153bx3y3plot\" class=\"plotclip\"><rect width=\"643\" height=\"152.15199999999996\"/></clipPath><clipPath id=\"clip7e153bx4y4plot\" class=\"plotclip\"><rect width=\"643\" height=\"152.152\"/></clipPath><clipPath id=\"clip7e153bx5y5plot\" class=\"plotclip\"><rect width=\"643\" height=\"152.152\"/></clipPath><clipPath class=\"axesclip\" id=\"clip7e153bx\"><rect x=\"47\" y=\"0\" width=\"643\" height=\"1050\"/></clipPath><clipPath class=\"axesclip\" id=\"clip7e153by\"><rect x=\"0\" y=\"10\" width=\"700\" height=\"152.15200000000002\"/></clipPath><clipPath class=\"axesclip\" id=\"clip7e153bxy\"><rect x=\"47\" y=\"10\" width=\"643\" height=\"152.15200000000002\"/></clipPath><clipPath class=\"axesclip\" id=\"clip7e153by2\"><rect x=\"0\" y=\"222.21200000000007\" width=\"700\" height=\"152.15200000000002\"/></clipPath><clipPath class=\"axesclip\" id=\"clip7e153bxy2\"><rect x=\"47\" y=\"222.21200000000007\" width=\"643\" height=\"152.15200000000002\"/></clipPath><clipPath class=\"axesclip\" id=\"clip7e153by3\"><rect x=\"0\" y=\"434.42400000000004\" width=\"700\" height=\"152.15199999999996\"/></clipPath><clipPath class=\"axesclip\" id=\"clip7e153bxy3\"><rect x=\"47\" y=\"434.42400000000004\" width=\"643\" height=\"152.15199999999996\"/></clipPath><clipPath class=\"axesclip\" id=\"clip7e153by4\"><rect x=\"0\" y=\"646.636\" width=\"700\" height=\"152.152\"/></clipPath><clipPath class=\"axesclip\" id=\"clip7e153bxy4\"><rect x=\"47\" y=\"646.636\" width=\"643\" height=\"152.152\"/></clipPath><clipPath class=\"axesclip\" id=\"clip7e153by5\"><rect x=\"0\" y=\"858.848\" width=\"700\" height=\"152.152\"/></clipPath><clipPath class=\"axesclip\" id=\"clip7e153bxy5\"><rect x=\"47\" y=\"858.848\" width=\"643\" height=\"152.152\"/></clipPath><clipPath class=\"axesclip\" id=\"clip7e153bx2\"><rect x=\"47\" y=\"0\" width=\"643\" height=\"1050\"/></clipPath><clipPath class=\"axesclip\" id=\"clip7e153bx2y\"><rect x=\"47\" y=\"10\" width=\"643\" height=\"152.15200000000002\"/></clipPath><clipPath class=\"axesclip\" id=\"clip7e153bx2y2\"><rect x=\"47\" y=\"222.21200000000007\" width=\"643\" height=\"152.15200000000002\"/></clipPath><clipPath class=\"axesclip\" id=\"clip7e153bx2y3\"><rect x=\"47\" y=\"434.42400000000004\" width=\"643\" height=\"152.15199999999996\"/></clipPath><clipPath class=\"axesclip\" id=\"clip7e153bx2y4\"><rect x=\"47\" y=\"646.636\" width=\"643\" height=\"152.152\"/></clipPath><clipPath class=\"axesclip\" id=\"clip7e153bx2y5\"><rect x=\"47\" y=\"858.848\" width=\"643\" height=\"152.152\"/></clipPath><clipPath class=\"axesclip\" id=\"clip7e153bx3\"><rect x=\"47\" y=\"0\" width=\"643\" height=\"1050\"/></clipPath><clipPath class=\"axesclip\" id=\"clip7e153bx3y\"><rect x=\"47\" y=\"10\" width=\"643\" height=\"152.15200000000002\"/></clipPath><clipPath class=\"axesclip\" id=\"clip7e153bx3y2\"><rect x=\"47\" y=\"222.21200000000007\" width=\"643\" height=\"152.15200000000002\"/></clipPath><clipPath class=\"axesclip\" id=\"clip7e153bx3y3\"><rect x=\"47\" y=\"434.42400000000004\" width=\"643\" height=\"152.15199999999996\"/></clipPath><clipPath class=\"axesclip\" id=\"clip7e153bx3y4\"><rect x=\"47\" y=\"646.636\" width=\"643\" height=\"152.152\"/></clipPath><clipPath class=\"axesclip\" id=\"clip7e153bx3y5\"><rect x=\"47\" y=\"858.848\" width=\"643\" height=\"152.152\"/></clipPath><clipPath class=\"axesclip\" id=\"clip7e153bx4\"><rect x=\"47\" y=\"0\" width=\"643\" height=\"1050\"/></clipPath><clipPath class=\"axesclip\" id=\"clip7e153bx4y\"><rect x=\"47\" y=\"10\" width=\"643\" height=\"152.15200000000002\"/></clipPath><clipPath class=\"axesclip\" id=\"clip7e153bx4y2\"><rect x=\"47\" y=\"222.21200000000007\" width=\"643\" height=\"152.15200000000002\"/></clipPath><clipPath class=\"axesclip\" id=\"clip7e153bx4y3\"><rect x=\"47\" y=\"434.42400000000004\" width=\"643\" height=\"152.15199999999996\"/></clipPath><clipPath class=\"axesclip\" id=\"clip7e153bx4y4\"><rect x=\"47\" y=\"646.636\" width=\"643\" height=\"152.152\"/></clipPath><clipPath class=\"axesclip\" id=\"clip7e153bx4y5\"><rect x=\"47\" y=\"858.848\" width=\"643\" height=\"152.152\"/></clipPath><clipPath class=\"axesclip\" id=\"clip7e153bx5\"><rect x=\"47\" y=\"0\" width=\"643\" height=\"1050\"/></clipPath><clipPath class=\"axesclip\" id=\"clip7e153bx5y\"><rect x=\"47\" y=\"10\" width=\"643\" height=\"152.15200000000002\"/></clipPath><clipPath class=\"axesclip\" id=\"clip7e153bx5y2\"><rect x=\"47\" y=\"222.21200000000007\" width=\"643\" height=\"152.15200000000002\"/></clipPath><clipPath class=\"axesclip\" id=\"clip7e153bx5y3\"><rect x=\"47\" y=\"434.42400000000004\" width=\"643\" height=\"152.15199999999996\"/></clipPath><clipPath class=\"axesclip\" id=\"clip7e153bx5y4\"><rect x=\"47\" y=\"646.636\" width=\"643\" height=\"152.152\"/></clipPath><clipPath class=\"axesclip\" id=\"clip7e153bx5y5\"><rect x=\"47\" y=\"858.848\" width=\"643\" height=\"152.152\"/></clipPath></g><g class=\"gradients\"/><g class=\"patterns\"/></defs><g class=\"bglayer\"/><g class=\"layer-below\"><g class=\"imagelayer\"/><g class=\"shapelayer\"/></g><g class=\"cartesianlayer\"><g class=\"subplot xy\"><g class=\"layer-subplot\"><g class=\"shapelayer\"/><g class=\"imagelayer\"/></g><g class=\"minor-gridlayer\"><g class=\"x\"/><g class=\"y\"/></g><g class=\"gridlayer\"><g class=\"x\"><path class=\"xgrid crisp\" transform=\"translate(75.93,0)\" d=\"M0,10v152.15200000000002\" style=\"stroke: rgb(235, 240, 248); stroke-opacity: 1; stroke-width: 1px;\"/><path class=\"xgrid crisp\" transform=\"translate(170.78,0)\" d=\"M0,10v152.15200000000002\" style=\"stroke: rgb(235, 240, 248); stroke-opacity: 1; stroke-width: 1px;\"/><path class=\"xgrid crisp\" transform=\"translate(268.83000000000004,0)\" d=\"M0,10v152.15200000000002\" style=\"stroke: rgb(235, 240, 248); stroke-opacity: 1; stroke-width: 1px;\"/><path class=\"xgrid crisp\" transform=\"translate(366.89,0)\" d=\"M0,10v152.15200000000002\" style=\"stroke: rgb(235, 240, 248); stroke-opacity: 1; stroke-width: 1px;\"/><path class=\"xgrid crisp\" transform=\"translate(466.56,0)\" d=\"M0,10v152.15200000000002\" style=\"stroke: rgb(235, 240, 248); stroke-opacity: 1; stroke-width: 1px;\"/><path class=\"xgrid crisp\" transform=\"translate(564.61,0)\" d=\"M0,10v152.15200000000002\" style=\"stroke: rgb(235, 240, 248); stroke-opacity: 1; stroke-width: 1px;\"/><path class=\"xgrid crisp\" transform=\"translate(662.67,0)\" d=\"M0,10v152.15200000000002\" style=\"stroke: rgb(235, 240, 248); stroke-opacity: 1; stroke-width: 1px;\"/></g><g class=\"y\"><path class=\"ygrid crisp\" transform=\"translate(0,158.45)\" d=\"M47,0h643\" style=\"stroke: rgb(235, 240, 248); stroke-opacity: 1; stroke-width: 1px;\"/><path class=\"ygrid crisp\" transform=\"translate(0,124.42)\" d=\"M47,0h643\" style=\"stroke: rgb(235, 240, 248); stroke-opacity: 1; stroke-width: 1px;\"/><path class=\"ygrid crisp\" transform=\"translate(0,56.35)\" d=\"M47,0h643\" style=\"stroke: rgb(235, 240, 248); stroke-opacity: 1; stroke-width: 1px;\"/><path class=\"ygrid crisp\" transform=\"translate(0,22.32)\" d=\"M47,0h643\" style=\"stroke: rgb(235, 240, 248); stroke-opacity: 1; stroke-width: 1px;\"/></g></g><g class=\"zerolinelayer\"><path class=\"yzl zl crisp\" transform=\"translate(0,90.39)\" d=\"M47,0h643\" style=\"stroke: rgb(235, 240, 248); stroke-opacity: 1; stroke-width: 2px;\"/></g><g class=\"layer-between\"><g class=\"shapelayer\"/><g class=\"imagelayer\"/></g><path class=\"xlines-below\"/><path class=\"ylines-below\"/><g class=\"overlines-below\"/><g class=\"xaxislayer-below\"/><g class=\"yaxislayer-below\"/><g class=\"overaxes-below\"/><g class=\"overplot\"><g class=\"xy\" transform=\"translate(47,10)\" clip-path=\"url(#clip7e153bxyplot)\"><g class=\"scatterlayer mlayer\"><g class=\"trace scatter trace256b36\" style=\"stroke-miterlimit: 2; opacity: 1;\"><g class=\"fills\"/><g class=\"errorbars\"/><g class=\"lines\"><path class=\"js-line\" d=\"M28.93,34.4L43.4,16.57L45.01,14.95L51.44,9.87L53.05,9.02L57.87,7.65L59.48,7.61L64.3,8.8L65.91,9.65L70.73,13.49L72.34,15.2L78.77,23.95L80.38,26.57L88.41,41.57L90.02,44.85L109.31,83.7L110.92,86.45L117.35,96.1L118.95,98.14L125.38,104.72L126.99,105.98L133.42,109.51L135.03,110.05L141.46,111.08L143.07,111.1L151.1,110.22L152.71,109.92L170.4,106.94L172,106.84L181.65,107.11L183.25,107.29L197.72,109.87L199.33,110.19L215.4,112.71L217.01,112.87L242.73,115.65L244.34,116.05L252.38,118.79L253.98,119.51L263.63,124.85L265.24,125.9L289.35,141.51L290.96,142.21L297.39,144.14L298.99,144.38L305.42,144.29L307.03,144L313.46,141.82L315.07,141.03L323.11,135.91L324.72,134.69L353.65,112.04L355.26,111.1L364.9,106.4L366.51,105.75L387.41,96.89L389.01,95.93L397.05,90.09L398.66,88.68L406.7,80.48L408.31,78.63L422.77,60.2L424.38,58.12L434.02,46.7L435.63,45.06L442.06,39.61L443.67,38.55L450.1,35.68L451.71,35.32L456.53,35.04L458.14,35.21L464.57,37.1L466.17,37.82L474.21,42.56L475.82,43.65L491.9,53.91L493.5,54.65L499.93,56.79L501.54,57.09L507.97,57.38L509.58,57.22L517.61,55.35L519.22,54.8L540.12,47.46L541.73,47.18L548.16,46.76L549.76,46.85L557.8,48.37L559.41,48.86L581.91,56.43L583.52,56.6L589.95,56.18L591.56,55.77L596.38,53.74L597.99,52.8L604.42,47.72L606.03,46.15L614.06,36.95\" style=\"vector-effect: none; fill: none; stroke: rgb(45, 146, 255); stroke-opacity: 1; stroke-width: 2px; opacity: 1;\"/></g><g class=\"points\"/><g class=\"text\"/></g></g></g></g><g class=\"zerolinelayer-above\"/><path class=\"xlines-above crisp\" d=\"M45.5,162.90200000000002H691.5M45.5,9.25H691.5\" style=\"fill: none; stroke-width: 1.5px; stroke: rgb(235, 240, 248); stroke-opacity: 1;\"/><path class=\"ylines-above crisp\" d=\"M46.25,10V162.15200000000002M690.75,10V162.15200000000002\" style=\"fill: none; stroke-width: 1.5px; stroke: rgb(235, 240, 248); stroke-opacity: 1;\"/><g class=\"overlines-above\"/><g class=\"xaxislayer-above\"><g class=\"xtick\"><text text-anchor=\"middle\" x=\"0\" y=\"175.65200000000002\" transform=\"translate(75.93,0)\" style=\"font-family: 'Open Sans', verdana, arial, sans-serif; font-size: 10px; fill: rgb(42, 63, 95); fill-opacity: 1; white-space: pre;\">January  1</text></g><g class=\"xtick\"><text text-anchor=\"middle\" x=\"0\" y=\"175.65200000000002\" style=\"font-family: 'Open Sans', verdana, arial, sans-serif; font-size: 10px; fill: rgb(42, 63, 95); fill-opacity: 1; white-space: pre;\" transform=\"translate(170.78,0)\">March  1</text></g><g class=\"xtick\"><text text-anchor=\"middle\" x=\"0\" y=\"175.65200000000002\" style=\"font-family: 'Open Sans', verdana, arial, sans-serif; font-size: 10px; fill: rgb(42, 63, 95); fill-opacity: 1; white-space: pre;\" transform=\"translate(268.83000000000004,0)\">May  1</text></g><g class=\"xtick\"><text text-anchor=\"middle\" x=\"0\" y=\"175.65200000000002\" style=\"font-family: 'Open Sans', verdana, arial, sans-serif; font-size: 10px; fill: rgb(42, 63, 95); fill-opacity: 1; white-space: pre;\" transform=\"translate(366.89,0)\">July  1</text></g><g class=\"xtick\"><text text-anchor=\"middle\" x=\"0\" y=\"175.65200000000002\" style=\"font-family: 'Open Sans', verdana, arial, sans-serif; font-size: 10px; fill: rgb(42, 63, 95); fill-opacity: 1; white-space: pre;\" transform=\"translate(466.56,0)\">September  1</text></g><g class=\"xtick\"><text text-anchor=\"middle\" x=\"0\" y=\"175.65200000000002\" style=\"font-family: 'Open Sans', verdana, arial, sans-serif; font-size: 10px; fill: rgb(42, 63, 95); fill-opacity: 1; white-space: pre;\" transform=\"translate(564.61,0)\">November  1</text></g><g class=\"xtick\"><text text-anchor=\"middle\" x=\"0\" y=\"175.65200000000002\" style=\"font-family: 'Open Sans', verdana, arial, sans-serif; font-size: 10px; fill: rgb(42, 63, 95); fill-opacity: 1; white-space: pre;\" transform=\"translate(662.67,0)\">January  1</text></g></g><g class=\"yaxislayer-above\"><g class=\"ytick\"><text text-anchor=\"end\" x=\"43.5\" y=\"3.5\" transform=\"translate(0,158.45)\" style=\"font-family: 'Open Sans', verdana, arial, sans-serif; font-size: 10px; fill: rgb(42, 63, 95); fill-opacity: 1; white-space: pre;\">−1</text></g><g class=\"ytick\"><text text-anchor=\"end\" x=\"43.5\" y=\"3.5\" style=\"font-family: 'Open Sans', verdana, arial, sans-serif; font-size: 10px; fill: rgb(42, 63, 95); fill-opacity: 1; white-space: pre;\" transform=\"translate(0,124.42)\">−0.5</text></g><g class=\"ytick\"><text text-anchor=\"end\" x=\"43.5\" y=\"3.5\" style=\"font-family: 'Open Sans', verdana, arial, sans-serif; font-size: 10px; fill: rgb(42, 63, 95); fill-opacity: 1; white-space: pre;\" transform=\"translate(0,90.39)\">0</text></g><g class=\"ytick\"><text text-anchor=\"end\" x=\"43.5\" y=\"3.5\" style=\"font-family: 'Open Sans', verdana, arial, sans-serif; font-size: 10px; fill: rgb(42, 63, 95); fill-opacity: 1; white-space: pre;\" transform=\"translate(0,56.35)\">0.5</text></g><g class=\"ytick\"><text text-anchor=\"end\" x=\"43.5\" y=\"3.5\" style=\"font-family: 'Open Sans', verdana, arial, sans-serif; font-size: 10px; fill: rgb(42, 63, 95); fill-opacity: 1; white-space: pre;\" transform=\"translate(0,22.32)\">1</text></g></g><g class=\"overaxes-above\"/></g><g class=\"subplot x2y2\"><g class=\"layer-subplot\"><g class=\"shapelayer\"/><g class=\"imagelayer\"/></g><g class=\"minor-gridlayer\"><g class=\"x2\"/><g class=\"y2\"/></g><g class=\"gridlayer\"><g class=\"x2\"><path class=\"x2grid crisp\" transform=\"translate(159.44,0)\" d=\"M0,222.21200000000007v152.15200000000002\" style=\"stroke: rgb(235, 240, 248); stroke-opacity: 1; stroke-width: 1px;\"/><path class=\"x2grid crisp\" transform=\"translate(243.77,0)\" d=\"M0,222.21200000000007v152.15200000000002\" style=\"stroke: rgb(235, 240, 248); stroke-opacity: 1; stroke-width: 1px;\"/><path class=\"x2grid crisp\" transform=\"translate(328.09,0)\" d=\"M0,222.21200000000007v152.15200000000002\" style=\"stroke: rgb(235, 240, 248); stroke-opacity: 1; stroke-width: 1px;\"/><path class=\"x2grid crisp\" transform=\"translate(412.42,0)\" d=\"M0,222.21200000000007v152.15200000000002\" style=\"stroke: rgb(235, 240, 248); stroke-opacity: 1; stroke-width: 1px;\"/><path class=\"x2grid crisp\" transform=\"translate(496.75,0)\" d=\"M0,222.21200000000007v152.15200000000002\" style=\"stroke: rgb(235, 240, 248); stroke-opacity: 1; stroke-width: 1px;\"/><path class=\"x2grid crisp\" transform=\"translate(581.08,0)\" d=\"M0,222.21200000000007v152.15200000000002\" style=\"stroke: rgb(235, 240, 248); stroke-opacity: 1; stroke-width: 1px;\"/><path class=\"x2grid crisp\" transform=\"translate(665.4,0)\" d=\"M0,222.21200000000007v152.15200000000002\" style=\"stroke: rgb(235, 240, 248); stroke-opacity: 1; stroke-width: 1px;\"/></g><g class=\"y2\"><path class=\"y2grid crisp\" transform=\"translate(0,325.69200000000006)\" d=\"M47,0h643\" style=\"stroke: rgb(235, 240, 248); stroke-opacity: 1; stroke-width: 1px;\"/><path class=\"y2grid crisp\" transform=\"translate(0,226.5420000000001)\" d=\"M47,0h643\" style=\"stroke: rgb(235, 240, 248); stroke-opacity: 1; stroke-width: 1px;\"/></g></g><g class=\"zerolinelayer\"><path class=\"x2zl zl crisp\" transform=\"translate(75.11,0)\" d=\"M0,222.21200000000007v152.15200000000002\" style=\"stroke: rgb(235, 240, 248); stroke-opacity: 1; stroke-width: 2px;\"/><path class=\"y2zl zl crisp\" transform=\"translate(0,276.12200000000007)\" d=\"M47,0h643\" style=\"stroke: rgb(235, 240, 248); stroke-opacity: 1; stroke-width: 2px;\"/></g><g class=\"layer-between\"><g class=\"shapelayer\"/><g class=\"imagelayer\"/></g><path class=\"xlines-below\"/><path class=\"ylines-below\"/><g class=\"overlines-below\"/><g class=\"xaxislayer-below\"/><g class=\"yaxislayer-below\"/><g class=\"overaxes-below\"/><g class=\"overplot\"><g class=\"x2y2\" transform=\"translate(47,222.21200000000007)\" clip-path=\"url(#clip7e153bx2y2plot)\"><g class=\"scatterlayer mlayer\"><g class=\"trace scatter trace576987\" style=\"stroke-miterlimit: 2; opacity: 1;\"><g class=\"fills\"/><g class=\"errorbars\"/><g class=\"lines\"><path class=\"js-line\" d=\"M28.11,106.5L52.7,78.81L56.22,74.68L80.81,49.16L84.33,45.92L98.38,34.2L101.9,31.61L112.44,24.85L115.95,22.87L130.01,16.4L133.52,15.16L147.57,11.65L151.09,11.13L161.63,10.31L165.14,10.32L179.2,11.47L182.71,12.02L200.28,16.29L203.79,17.36L228.39,26.54L231.9,27.93L260.01,38.15L263.52,39.14L277.58,42.06L281.09,42.5L291.63,42.94L295.15,42.81L305.69,41.53L309.2,40.77L319.74,37.83L323.26,36.51L340.83,28.73L344.34,27L372.45,13.5L375.96,12.09L386.5,9L390.02,8.31L400.56,7.61L404.07,7.84L411.1,9.14L414.61,10.21L421.64,13.07L425.15,14.98L432.18,19.56L435.69,22.39L442.72,28.57L446.23,32.01L456.78,43.53L460.29,47.99L474.34,66.27L477.86,71.31L505.97,108.76L509.48,113.06L520.02,124.28L523.54,127.75L530.56,133.62L534.08,136.02L544.62,141.67L548.13,142.92L555.16,144.32L558.67,144.54L565.7,144L569.21,143.25L576.24,140.84L579.75,139.14L590.3,132.74L593.81,129.97L604.35,120.83L607.86,117.48L614.89,110.14\" style=\"vector-effect: none; fill: none; stroke: rgb(45, 146, 255); stroke-opacity: 1; stroke-width: 2px; opacity: 1;\"/></g><g class=\"points\"/><g class=\"text\"/></g></g></g></g><g class=\"zerolinelayer-above\"/><path class=\"xlines-above crisp\" d=\"M45.5,375.1140000000001H691.5M45.5,221.46200000000007H691.5\" style=\"fill: none; stroke-width: 1.5px; stroke: rgb(235, 240, 248); stroke-opacity: 1;\"/><path class=\"ylines-above crisp\" d=\"M46.25,222.21200000000007V374.3640000000001M690.75,222.21200000000007V374.3640000000001\" style=\"fill: none; stroke-width: 1.5px; stroke: rgb(235, 240, 248); stroke-opacity: 1;\"/><g class=\"overlines-above\"/><g class=\"xaxislayer-above\"><g class=\"x2tick\"><text text-anchor=\"middle\" x=\"0\" y=\"387.8640000000001\" transform=\"translate(75.11,0)\" style=\"font-family: 'Open Sans', verdana, arial, sans-serif; font-size: 10px; fill: rgb(42, 63, 95); fill-opacity: 1; white-space: pre;\">Sunday</text></g><g class=\"x2tick\"><text text-anchor=\"middle\" x=\"0\" y=\"387.8640000000001\" style=\"font-family: 'Open Sans', verdana, arial, sans-serif; font-size: 10px; fill: rgb(42, 63, 95); fill-opacity: 1; white-space: pre;\" transform=\"translate(159.44,0)\">Monday</text></g><g class=\"x2tick\"><text text-anchor=\"middle\" x=\"0\" y=\"387.8640000000001\" style=\"font-family: 'Open Sans', verdana, arial, sans-serif; font-size: 10px; fill: rgb(42, 63, 95); fill-opacity: 1; white-space: pre;\" transform=\"translate(243.77,0)\">Tuesday</text></g><g class=\"x2tick\"><text text-anchor=\"middle\" x=\"0\" y=\"387.8640000000001\" style=\"font-family: 'Open Sans', verdana, arial, sans-serif; font-size: 10px; fill: rgb(42, 63, 95); fill-opacity: 1; white-space: pre;\" transform=\"translate(328.09,0)\">Wednesday</text></g><g class=\"x2tick\"><text text-anchor=\"middle\" x=\"0\" y=\"387.8640000000001\" style=\"font-family: 'Open Sans', verdana, arial, sans-serif; font-size: 10px; fill: rgb(42, 63, 95); fill-opacity: 1; white-space: pre;\" transform=\"translate(412.42,0)\">Thursday</text></g><g class=\"x2tick\"><text text-anchor=\"middle\" x=\"0\" y=\"387.8640000000001\" style=\"font-family: 'Open Sans', verdana, arial, sans-serif; font-size: 10px; fill: rgb(42, 63, 95); fill-opacity: 1; white-space: pre;\" transform=\"translate(496.75,0)\">Friday</text></g><g class=\"x2tick\"><text text-anchor=\"middle\" x=\"0\" y=\"387.8640000000001\" style=\"font-family: 'Open Sans', verdana, arial, sans-serif; font-size: 10px; fill: rgb(42, 63, 95); fill-opacity: 1; white-space: pre;\" transform=\"translate(581.08,0)\">Saturday</text></g><g class=\"x2tick\"><text text-anchor=\"middle\" x=\"0\" y=\"387.8640000000001\" style=\"font-family: 'Open Sans', verdana, arial, sans-serif; font-size: 10px; fill: rgb(42, 63, 95); fill-opacity: 1; white-space: pre;\" transform=\"translate(665.4,0)\">Sunday</text></g></g><g class=\"yaxislayer-above\"><g class=\"y2tick\"><text text-anchor=\"end\" x=\"43.5\" y=\"3.5\" transform=\"translate(0,325.69200000000006)\" style=\"font-family: 'Open Sans', verdana, arial, sans-serif; font-size: 10px; fill: rgb(42, 63, 95); fill-opacity: 1; white-space: pre;\">−0.1</text></g><g class=\"y2tick\"><text text-anchor=\"end\" x=\"43.5\" y=\"3.5\" style=\"font-family: 'Open Sans', verdana, arial, sans-serif; font-size: 10px; fill: rgb(42, 63, 95); fill-opacity: 1; white-space: pre;\" transform=\"translate(0,276.12200000000007)\">0</text></g><g class=\"y2tick\"><text text-anchor=\"end\" x=\"43.5\" y=\"3.5\" style=\"font-family: 'Open Sans', verdana, arial, sans-serif; font-size: 10px; fill: rgb(42, 63, 95); fill-opacity: 1; white-space: pre;\" transform=\"translate(0,226.5420000000001)\">0.1</text></g></g><g class=\"overaxes-above\"/></g><g class=\"subplot x3y3\"><g class=\"layer-subplot\"><g class=\"shapelayer\"/><g class=\"imagelayer\"/></g><g class=\"minor-gridlayer\"><g class=\"x3\"/><g class=\"y3\"/></g><g class=\"gridlayer\"><g class=\"x3\"><path class=\"x3grid crisp\" transform=\"translate(159.44,0)\" d=\"M0,434.42400000000004v152.15199999999996\" style=\"stroke: rgb(235, 240, 248); stroke-opacity: 1; stroke-width: 1px;\"/><path class=\"x3grid crisp\" transform=\"translate(243.77,0)\" d=\"M0,434.42400000000004v152.15199999999996\" style=\"stroke: rgb(235, 240, 248); stroke-opacity: 1; stroke-width: 1px;\"/><path class=\"x3grid crisp\" transform=\"translate(328.09,0)\" d=\"M0,434.42400000000004v152.15199999999996\" style=\"stroke: rgb(235, 240, 248); stroke-opacity: 1; stroke-width: 1px;\"/><path class=\"x3grid crisp\" transform=\"translate(412.42,0)\" d=\"M0,434.42400000000004v152.15199999999996\" style=\"stroke: rgb(235, 240, 248); stroke-opacity: 1; stroke-width: 1px;\"/><path class=\"x3grid crisp\" transform=\"translate(496.75,0)\" d=\"M0,434.42400000000004v152.15199999999996\" style=\"stroke: rgb(235, 240, 248); stroke-opacity: 1; stroke-width: 1px;\"/><path class=\"x3grid crisp\" transform=\"translate(581.08,0)\" d=\"M0,434.42400000000004v152.15199999999996\" style=\"stroke: rgb(235, 240, 248); stroke-opacity: 1; stroke-width: 1px;\"/><path class=\"x3grid crisp\" transform=\"translate(665.4,0)\" d=\"M0,434.42400000000004v152.15199999999996\" style=\"stroke: rgb(235, 240, 248); stroke-opacity: 1; stroke-width: 1px;\"/></g><g class=\"y3\"><path class=\"y3grid crisp\" transform=\"translate(0,580.394)\" d=\"M47,0h643\" style=\"stroke: rgb(235, 240, 248); stroke-opacity: 1; stroke-width: 1px;\"/><path class=\"y3grid crisp\" transform=\"translate(0,469.40400000000005)\" d=\"M47,0h643\" style=\"stroke: rgb(235, 240, 248); stroke-opacity: 1; stroke-width: 1px;\"/></g></g><g class=\"zerolinelayer\"><path class=\"x3zl zl crisp\" transform=\"translate(75.11,0)\" d=\"M0,434.42400000000004v152.15199999999996\" style=\"stroke: rgb(235, 240, 248); stroke-opacity: 1; stroke-width: 2px;\"/><path class=\"y3zl zl crisp\" transform=\"translate(0,524.894)\" d=\"M47,0h643\" style=\"stroke: rgb(235, 240, 248); stroke-opacity: 1; stroke-width: 2px;\"/></g><g class=\"layer-between\"><g class=\"shapelayer\"/><g class=\"imagelayer\"/></g><path class=\"xlines-below\"/><path class=\"ylines-below\"/><g class=\"overlines-below\"/><g class=\"xaxislayer-below\"/><g class=\"yaxislayer-below\"/><g class=\"overaxes-below\"/><g class=\"overplot\"><g class=\"x3y3\" transform=\"translate(47,434.42400000000004)\" clip-path=\"url(#clip7e153bx3y3plot)\"><g class=\"scatterlayer mlayer\"><g class=\"trace scatter traceaf9d35\" style=\"stroke-miterlimit: 2; opacity: 1;\"><g class=\"fills\"/><g class=\"errorbars\"/><g class=\"lines\"><path class=\"js-line\" d=\"M28.11,61.8L45.68,38.81L49.19,34.8L59.73,24.1L63.25,21.1L73.79,13.68L77.3,11.94L84.33,9.25L87.84,8.39L94.87,7.61L98.38,7.65L105.41,8.57L108.92,9.46L119.46,13.38L122.98,15.23L137.03,23.93L140.55,26.56L158.11,40.4L161.63,43.26L196.77,71.19L200.28,73.72L224.87,90.36L228.39,92.5L249.47,104.56L252.98,106.34L267.04,113.31L270.55,114.86L284.61,120.48L288.12,121.69L302.17,125.53L305.69,126.24L319.74,127.75L323.26,127.81L337.31,126.71L340.83,126.08L354.88,122.58L358.39,121.41L375.96,114.95L379.48,113.56L400.56,106.2L404.07,105.26L414.61,103.17L418.13,102.76L428.67,102.58L432.18,102.9L442.72,104.95L446.23,106L456.78,110.07L460.29,111.83L474.34,119.63L477.86,121.87L502.45,136.42L505.97,138.11L516.51,142.28L520.02,143.21L527.05,144.38L530.56,144.54L537.59,143.98L541.1,143.24L548.13,140.67L551.64,138.96L558.67,134.66L562.19,131.95L572.73,122.41L576.24,118.48L590.3,101.37L593.81,96.43L614.89,66.56\" style=\"vector-effect: none; fill: none; stroke: rgb(45, 146, 255); stroke-opacity: 1; stroke-width: 2px; opacity: 1;\"/></g><g class=\"points\"/><g class=\"text\"/></g></g></g></g><g class=\"zerolinelayer-above\"/><path class=\"xlines-above crisp\" d=\"M45.5,587.326H691.5M45.5,433.67400000000004H691.5\" style=\"fill: none; stroke-width: 1.5px; stroke: rgb(235, 240, 248); stroke-opacity: 1;\"/><path class=\"ylines-above crisp\" d=\"M46.25,434.42400000000004V586.576M690.75,434.42400000000004V586.576\" style=\"fill: none; stroke-width: 1.5px; stroke: rgb(235, 240, 248); stroke-opacity: 1;\"/><g class=\"overlines-above\"/><g class=\"xaxislayer-above\"><g class=\"x3tick\"><text text-anchor=\"middle\" x=\"0\" y=\"600.076\" transform=\"translate(75.11,0)\" style=\"font-family: 'Open Sans', verdana, arial, sans-serif; font-size: 10px; fill: rgb(42, 63, 95); fill-opacity: 1; white-space: pre;\">Sunday</text></g><g class=\"x3tick\"><text text-anchor=\"middle\" x=\"0\" y=\"600.076\" style=\"font-family: 'Open Sans', verdana, arial, sans-serif; font-size: 10px; fill: rgb(42, 63, 95); fill-opacity: 1; white-space: pre;\" transform=\"translate(159.44,0)\">Monday</text></g><g class=\"x3tick\"><text text-anchor=\"middle\" x=\"0\" y=\"600.076\" style=\"font-family: 'Open Sans', verdana, arial, sans-serif; font-size: 10px; fill: rgb(42, 63, 95); fill-opacity: 1; white-space: pre;\" transform=\"translate(243.77,0)\">Tuesday</text></g><g class=\"x3tick\"><text text-anchor=\"middle\" x=\"0\" y=\"600.076\" style=\"font-family: 'Open Sans', verdana, arial, sans-serif; font-size: 10px; fill: rgb(42, 63, 95); fill-opacity: 1; white-space: pre;\" transform=\"translate(328.09,0)\">Wednesday</text></g><g class=\"x3tick\"><text text-anchor=\"middle\" x=\"0\" y=\"600.076\" style=\"font-family: 'Open Sans', verdana, arial, sans-serif; font-size: 10px; fill: rgb(42, 63, 95); fill-opacity: 1; white-space: pre;\" transform=\"translate(412.42,0)\">Thursday</text></g><g class=\"x3tick\"><text text-anchor=\"middle\" x=\"0\" y=\"600.076\" style=\"font-family: 'Open Sans', verdana, arial, sans-serif; font-size: 10px; fill: rgb(42, 63, 95); fill-opacity: 1; white-space: pre;\" transform=\"translate(496.75,0)\">Friday</text></g><g class=\"x3tick\"><text text-anchor=\"middle\" x=\"0\" y=\"600.076\" style=\"font-family: 'Open Sans', verdana, arial, sans-serif; font-size: 10px; fill: rgb(42, 63, 95); fill-opacity: 1; white-space: pre;\" transform=\"translate(581.08,0)\">Saturday</text></g><g class=\"x3tick\"><text text-anchor=\"middle\" x=\"0\" y=\"600.076\" style=\"font-family: 'Open Sans', verdana, arial, sans-serif; font-size: 10px; fill: rgb(42, 63, 95); fill-opacity: 1; white-space: pre;\" transform=\"translate(665.4,0)\">Sunday</text></g></g><g class=\"yaxislayer-above\"><g class=\"y3tick\"><text text-anchor=\"end\" x=\"43.5\" y=\"3.5\" transform=\"translate(0,580.394)\" style=\"font-family: 'Open Sans', verdana, arial, sans-serif; font-size: 10px; fill: rgb(42, 63, 95); fill-opacity: 1; white-space: pre;\">−0.5</text></g><g class=\"y3tick\"><text text-anchor=\"end\" x=\"43.5\" y=\"3.5\" style=\"font-family: 'Open Sans', verdana, arial, sans-serif; font-size: 10px; fill: rgb(42, 63, 95); fill-opacity: 1; white-space: pre;\" transform=\"translate(0,524.894)\">0</text></g><g class=\"y3tick\"><text text-anchor=\"end\" x=\"43.5\" y=\"3.5\" style=\"font-family: 'Open Sans', verdana, arial, sans-serif; font-size: 10px; fill: rgb(42, 63, 95); fill-opacity: 1; white-space: pre;\" transform=\"translate(0,469.40400000000005)\">0.5</text></g></g><g class=\"overaxes-above\"/></g><g class=\"subplot x4y4\"><g class=\"layer-subplot\"><g class=\"shapelayer\"/><g class=\"imagelayer\"/></g><g class=\"minor-gridlayer\"><g class=\"x4\"/><g class=\"y4\"/></g><g class=\"gridlayer\"><g class=\"x4\"><path class=\"x4grid crisp\" transform=\"translate(159.44,0)\" d=\"M0,646.636v152.152\" style=\"stroke: rgb(235, 240, 248); stroke-opacity: 1; stroke-width: 1px;\"/><path class=\"x4grid crisp\" transform=\"translate(243.77,0)\" d=\"M0,646.636v152.152\" style=\"stroke: rgb(235, 240, 248); stroke-opacity: 1; stroke-width: 1px;\"/><path class=\"x4grid crisp\" transform=\"translate(328.09,0)\" d=\"M0,646.636v152.152\" style=\"stroke: rgb(235, 240, 248); stroke-opacity: 1; stroke-width: 1px;\"/><path class=\"x4grid crisp\" transform=\"translate(412.42,0)\" d=\"M0,646.636v152.152\" style=\"stroke: rgb(235, 240, 248); stroke-opacity: 1; stroke-width: 1px;\"/><path class=\"x4grid crisp\" transform=\"translate(496.75,0)\" d=\"M0,646.636v152.152\" style=\"stroke: rgb(235, 240, 248); stroke-opacity: 1; stroke-width: 1px;\"/><path class=\"x4grid crisp\" transform=\"translate(581.08,0)\" d=\"M0,646.636v152.152\" style=\"stroke: rgb(235, 240, 248); stroke-opacity: 1; stroke-width: 1px;\"/><path class=\"x4grid crisp\" transform=\"translate(665.4,0)\" d=\"M0,646.636v152.152\" style=\"stroke: rgb(235, 240, 248); stroke-opacity: 1; stroke-width: 1px;\"/></g><g class=\"y4\"><path class=\"y4grid crisp\" transform=\"translate(0,662.976)\" d=\"M47,0h643\" style=\"stroke: rgb(235, 240, 248); stroke-opacity: 1; stroke-width: 1px;\"/></g></g><g class=\"zerolinelayer\"><path class=\"x4zl zl crisp\" transform=\"translate(75.11,0)\" d=\"M0,646.636v152.152\" style=\"stroke: rgb(235, 240, 248); stroke-opacity: 1; stroke-width: 2px;\"/><path class=\"y4zl zl crisp\" transform=\"translate(0,734.466)\" d=\"M47,0h643\" style=\"stroke: rgb(235, 240, 248); stroke-opacity: 1; stroke-width: 2px;\"/></g><g class=\"layer-between\"><g class=\"shapelayer\"/><g class=\"imagelayer\"/></g><path class=\"xlines-below\"/><path class=\"ylines-below\"/><g class=\"overlines-below\"/><g class=\"xaxislayer-below\"/><g class=\"yaxislayer-below\"/><g class=\"overaxes-below\"/><g class=\"overplot\"><g class=\"x4y4\" transform=\"translate(47,646.636)\" clip-path=\"url(#clip7e153bx4y4plot)\"><g class=\"scatterlayer mlayer\"><g class=\"trace scatter tracec9093f\" style=\"stroke-miterlimit: 2; opacity: 1;\"><g class=\"fills\"/><g class=\"errorbars\"/><g class=\"lines\"><path class=\"js-line\" d=\"M28.11,61.62L45.68,38.82L49.19,34.83L59.73,24.15L63.25,21.15L73.79,13.71L77.3,11.96L84.33,9.27L87.84,8.39L94.87,7.61L98.38,7.65L105.41,8.59L108.92,9.48L119.46,13.42L122.98,15.26L137.03,23.87L140.55,26.45L189.74,62.45L193.25,64.43L210.82,74.11L214.33,75.79L231.9,83.11L235.42,84.35L249.47,89.44L252.98,90.58L281.09,99.97L284.61,101.09L312.72,109.49L316.23,110.34L333.8,113.83L337.31,114.33L351.37,115.45L354.88,115.55L372.45,114.97L375.96,114.69L414.61,111.76L418.13,111.76L432.18,112.83L435.69,113.4L446.23,115.74L449.75,116.76L463.8,121.89L467.32,123.42L488.4,133.21L491.91,134.89L502.45,139.32L505.97,140.56L516.51,143.47L520.02,144.04L530.56,144.44L534.08,144.08L541.1,142.51L544.62,141.24L555.16,135.83L558.67,133.46L569.21,124.68L572.73,121.26L586.78,105L590.3,100.58L614.89,66.33\" style=\"vector-effect: none; fill: none; stroke: rgb(45, 146, 255); stroke-opacity: 1; stroke-width: 2px; opacity: 1;\"/></g><g class=\"points\"/><g class=\"text\"/></g></g></g></g><g class=\"zerolinelayer-above\"/><path class=\"xlines-above crisp\" d=\"M45.5,799.538H691.5M45.5,645.886H691.5\" style=\"fill: none; stroke-width: 1.5px; stroke: rgb(235, 240, 248); stroke-opacity: 1;\"/><path class=\"ylines-above crisp\" d=\"M46.25,646.636V798.788M690.75,646.636V798.788\" style=\"fill: none; stroke-width: 1.5px; stroke: rgb(235, 240, 248); stroke-opacity: 1;\"/><g class=\"overlines-above\"/><g class=\"xaxislayer-above\"><g class=\"x4tick\"><text text-anchor=\"middle\" x=\"0\" y=\"812.288\" transform=\"translate(75.11,0)\" style=\"font-family: 'Open Sans', verdana, arial, sans-serif; font-size: 10px; fill: rgb(42, 63, 95); fill-opacity: 1; white-space: pre;\">Sunday</text></g><g class=\"x4tick\"><text text-anchor=\"middle\" x=\"0\" y=\"812.288\" style=\"font-family: 'Open Sans', verdana, arial, sans-serif; font-size: 10px; fill: rgb(42, 63, 95); fill-opacity: 1; white-space: pre;\" transform=\"translate(159.44,0)\">Monday</text></g><g class=\"x4tick\"><text text-anchor=\"middle\" x=\"0\" y=\"812.288\" style=\"font-family: 'Open Sans', verdana, arial, sans-serif; font-size: 10px; fill: rgb(42, 63, 95); fill-opacity: 1; white-space: pre;\" transform=\"translate(243.77,0)\">Tuesday</text></g><g class=\"x4tick\"><text text-anchor=\"middle\" x=\"0\" y=\"812.288\" style=\"font-family: 'Open Sans', verdana, arial, sans-serif; font-size: 10px; fill: rgb(42, 63, 95); fill-opacity: 1; white-space: pre;\" transform=\"translate(328.09,0)\">Wednesday</text></g><g class=\"x4tick\"><text text-anchor=\"middle\" x=\"0\" y=\"812.288\" style=\"font-family: 'Open Sans', verdana, arial, sans-serif; font-size: 10px; fill: rgb(42, 63, 95); fill-opacity: 1; white-space: pre;\" transform=\"translate(412.42,0)\">Thursday</text></g><g class=\"x4tick\"><text text-anchor=\"middle\" x=\"0\" y=\"812.288\" style=\"font-family: 'Open Sans', verdana, arial, sans-serif; font-size: 10px; fill: rgb(42, 63, 95); fill-opacity: 1; white-space: pre;\" transform=\"translate(496.75,0)\">Friday</text></g><g class=\"x4tick\"><text text-anchor=\"middle\" x=\"0\" y=\"812.288\" style=\"font-family: 'Open Sans', verdana, arial, sans-serif; font-size: 10px; fill: rgb(42, 63, 95); fill-opacity: 1; white-space: pre;\" transform=\"translate(581.08,0)\">Saturday</text></g><g class=\"x4tick\"><text text-anchor=\"middle\" x=\"0\" y=\"812.288\" style=\"font-family: 'Open Sans', verdana, arial, sans-serif; font-size: 10px; fill: rgb(42, 63, 95); fill-opacity: 1; white-space: pre;\" transform=\"translate(665.4,0)\">Sunday</text></g></g><g class=\"yaxislayer-above\"><g class=\"y4tick\"><text text-anchor=\"end\" x=\"43.5\" y=\"3.5\" transform=\"translate(0,734.466)\" style=\"font-family: 'Open Sans', verdana, arial, sans-serif; font-size: 10px; fill: rgb(42, 63, 95); fill-opacity: 1; white-space: pre;\">0</text></g><g class=\"y4tick\"><text text-anchor=\"end\" x=\"43.5\" y=\"3.5\" style=\"font-family: 'Open Sans', verdana, arial, sans-serif; font-size: 10px; fill: rgb(42, 63, 95); fill-opacity: 1; white-space: pre;\" transform=\"translate(0,662.976)\">0.5</text></g></g><g class=\"overaxes-above\"/></g><g class=\"subplot x5y5\"><g class=\"layer-subplot\"><g class=\"shapelayer\"/><g class=\"imagelayer\"/></g><g class=\"minor-gridlayer\"><g class=\"x5\"/><g class=\"y5\"/></g><g class=\"gridlayer\"><g class=\"x5\"><path class=\"x5grid crisp\" transform=\"translate(159.44,0)\" d=\"M0,858.848v152.152\" style=\"stroke: rgb(235, 240, 248); stroke-opacity: 1; stroke-width: 1px;\"/><path class=\"x5grid crisp\" transform=\"translate(243.77,0)\" d=\"M0,858.848v152.152\" style=\"stroke: rgb(235, 240, 248); stroke-opacity: 1; stroke-width: 1px;\"/><path class=\"x5grid crisp\" transform=\"translate(328.09,0)\" d=\"M0,858.848v152.152\" style=\"stroke: rgb(235, 240, 248); stroke-opacity: 1; stroke-width: 1px;\"/><path class=\"x5grid crisp\" transform=\"translate(412.42,0)\" d=\"M0,858.848v152.152\" style=\"stroke: rgb(235, 240, 248); stroke-opacity: 1; stroke-width: 1px;\"/><path class=\"x5grid crisp\" transform=\"translate(496.75,0)\" d=\"M0,858.848v152.152\" style=\"stroke: rgb(235, 240, 248); stroke-opacity: 1; stroke-width: 1px;\"/><path class=\"x5grid crisp\" transform=\"translate(581.08,0)\" d=\"M0,858.848v152.152\" style=\"stroke: rgb(235, 240, 248); stroke-opacity: 1; stroke-width: 1px;\"/><path class=\"x5grid crisp\" transform=\"translate(665.4,0)\" d=\"M0,858.848v152.152\" style=\"stroke: rgb(235, 240, 248); stroke-opacity: 1; stroke-width: 1px;\"/></g><g class=\"y5\"><path class=\"y5grid crisp\" transform=\"translate(0,985.538)\" d=\"M47,0h643\" style=\"stroke: rgb(235, 240, 248); stroke-opacity: 1; stroke-width: 1px;\"/><path class=\"y5grid crisp\" transform=\"translate(0,951.058)\" d=\"M47,0h643\" style=\"stroke: rgb(235, 240, 248); stroke-opacity: 1; stroke-width: 1px;\"/><path class=\"y5grid crisp\" transform=\"translate(0,882.088)\" d=\"M47,0h643\" style=\"stroke: rgb(235, 240, 248); stroke-opacity: 1; stroke-width: 1px;\"/></g></g><g class=\"zerolinelayer\"><path class=\"x5zl zl crisp\" transform=\"translate(75.11,0)\" d=\"M0,858.848v152.152\" style=\"stroke: rgb(235, 240, 248); stroke-opacity: 1; stroke-width: 2px;\"/><path class=\"y5zl zl crisp\" transform=\"translate(0,916.568)\" d=\"M47,0h643\" style=\"stroke: rgb(235, 240, 248); stroke-opacity: 1; stroke-width: 2px;\"/></g><g class=\"layer-between\"><g class=\"shapelayer\"/><g class=\"imagelayer\"/></g><path class=\"xlines-below\"/><path class=\"ylines-below\"/><g class=\"overlines-below\"/><g class=\"xaxislayer-below\"/><g class=\"yaxislayer-below\"/><g class=\"overaxes-below\"/><g class=\"overplot\"><g class=\"x5y5\" transform=\"translate(47,858.848)\" clip-path=\"url(#clip7e153bx5y5plot)\"><g class=\"scatterlayer mlayer\"><g class=\"trace scatter trace1b09bc\" style=\"stroke-miterlimit: 2; opacity: 1;\"><g class=\"fills\"/><g class=\"errorbars\"/><g class=\"lines\"><path class=\"js-line\" d=\"M28.11,106.72L52.7,82.84L56.22,79.67L70.27,69.08L73.79,66.72L87.84,59.46L91.36,58.15L101.9,54.64L105.41,53.8L122.98,50.97L126.49,50.6L165.14,46.18L168.66,45.58L189.74,40.85L193.25,39.89L235.42,29.37L238.93,28.77L252.98,26.98L256.5,26.68L277.58,26.16L281.09,26.23L316.23,25.96L319.74,25.73L337.31,23.08L340.83,22.28L361.91,16.41L365.42,15.32L386.5,9.5L390.02,8.8L400.56,7.66L404.07,7.61L411.1,8.16L414.61,8.85L421.64,10.8L425.15,12.21L432.18,15.85L435.69,18.2L442.72,23.49L446.23,26.55L456.78,37.15L460.29,41.39L474.34,59.38L477.86,64.49L512.99,113.2L516.51,117.29L527.05,128.64L530.56,131.77L541.1,139.13L544.62,141.02L551.64,143.55L555.16,144.21L562.19,144.49L565.7,144.11L572.73,142.35L576.24,140.89L586.78,134.93L590.3,132.52L604.35,120.46L607.86,117.21L614.89,110.12\" style=\"vector-effect: none; fill: none; stroke: rgb(45, 146, 255); stroke-opacity: 1; stroke-width: 2px; opacity: 1;\"/></g><g class=\"points\"/><g class=\"text\"/></g></g></g></g><g class=\"zerolinelayer-above\"/><path class=\"xlines-above crisp\" d=\"M45.5,1011.75H691.5M45.5,858.098H691.5\" style=\"fill: none; stroke-width: 1.5px; stroke: rgb(235, 240, 248); stroke-opacity: 1;\"/><path class=\"ylines-above crisp\" d=\"M46.25,858.848V1011M690.75,858.848V1011\" style=\"fill: none; stroke-width: 1.5px; stroke: rgb(235, 240, 248); stroke-opacity: 1;\"/><g class=\"overlines-above\"/><g class=\"xaxislayer-above\"><g class=\"x5tick\"><text text-anchor=\"middle\" x=\"0\" y=\"1024.5\" transform=\"translate(75.11,0)\" style=\"font-family: 'Open Sans', verdana, arial, sans-serif; font-size: 10px; fill: rgb(42, 63, 95); fill-opacity: 1; white-space: pre;\">Sunday</text></g><g class=\"x5tick\"><text text-anchor=\"middle\" x=\"0\" y=\"1024.5\" style=\"font-family: 'Open Sans', verdana, arial, sans-serif; font-size: 10px; fill: rgb(42, 63, 95); fill-opacity: 1; white-space: pre;\" transform=\"translate(159.44,0)\">Monday</text></g><g class=\"x5tick\"><text text-anchor=\"middle\" x=\"0\" y=\"1024.5\" style=\"font-family: 'Open Sans', verdana, arial, sans-serif; font-size: 10px; fill: rgb(42, 63, 95); fill-opacity: 1; white-space: pre;\" transform=\"translate(243.77,0)\">Tuesday</text></g><g class=\"x5tick\"><text text-anchor=\"middle\" x=\"0\" y=\"1024.5\" style=\"font-family: 'Open Sans', verdana, arial, sans-serif; font-size: 10px; fill: rgb(42, 63, 95); fill-opacity: 1; white-space: pre;\" transform=\"translate(328.09,0)\">Wednesday</text></g><g class=\"x5tick\"><text text-anchor=\"middle\" x=\"0\" y=\"1024.5\" style=\"font-family: 'Open Sans', verdana, arial, sans-serif; font-size: 10px; fill: rgb(42, 63, 95); fill-opacity: 1; white-space: pre;\" transform=\"translate(412.42,0)\">Thursday</text></g><g class=\"x5tick\"><text text-anchor=\"middle\" x=\"0\" y=\"1024.5\" style=\"font-family: 'Open Sans', verdana, arial, sans-serif; font-size: 10px; fill: rgb(42, 63, 95); fill-opacity: 1; white-space: pre;\" transform=\"translate(496.75,0)\">Friday</text></g><g class=\"x5tick\"><text text-anchor=\"middle\" x=\"0\" y=\"1024.5\" style=\"font-family: 'Open Sans', verdana, arial, sans-serif; font-size: 10px; fill: rgb(42, 63, 95); fill-opacity: 1; white-space: pre;\" transform=\"translate(581.08,0)\">Saturday</text></g><g class=\"x5tick\"><text text-anchor=\"middle\" x=\"0\" y=\"1024.5\" style=\"font-family: 'Open Sans', verdana, arial, sans-serif; font-size: 10px; fill: rgb(42, 63, 95); fill-opacity: 1; white-space: pre;\" transform=\"translate(665.4,0)\">Sunday</text></g></g><g class=\"yaxislayer-above\"><g class=\"y5tick\"><text text-anchor=\"end\" x=\"43.5\" y=\"3.5\" transform=\"translate(0,985.538)\" style=\"font-family: 'Open Sans', verdana, arial, sans-serif; font-size: 10px; fill: rgb(42, 63, 95); fill-opacity: 1; white-space: pre;\">−0.2</text></g><g class=\"y5tick\"><text text-anchor=\"end\" x=\"43.5\" y=\"3.5\" style=\"font-family: 'Open Sans', verdana, arial, sans-serif; font-size: 10px; fill: rgb(42, 63, 95); fill-opacity: 1; white-space: pre;\" transform=\"translate(0,951.058)\">−0.1</text></g><g class=\"y5tick\"><text text-anchor=\"end\" x=\"43.5\" y=\"3.5\" style=\"font-family: 'Open Sans', verdana, arial, sans-serif; font-size: 10px; fill: rgb(42, 63, 95); fill-opacity: 1; white-space: pre;\" transform=\"translate(0,916.568)\">0</text></g><g class=\"y5tick\"><text text-anchor=\"end\" x=\"43.5\" y=\"3.5\" style=\"font-family: 'Open Sans', verdana, arial, sans-serif; font-size: 10px; fill: rgb(42, 63, 95); fill-opacity: 1; white-space: pre;\" transform=\"translate(0,882.088)\">0.1</text></g></g><g class=\"overaxes-above\"/></g></g><g class=\"polarlayer\"/><g class=\"smithlayer\"/><g class=\"ternarylayer\"/><g class=\"geolayer\"/><g class=\"funnelarealayer\"/><g class=\"pielayer\"/><g class=\"iciclelayer\"/><g class=\"treemaplayer\"/><g class=\"sunburstlayer\"/><g class=\"glimages\"/><defs id=\"topdefs-7e153b\"><g class=\"clips\"/></defs><g class=\"layer-above\"><g class=\"imagelayer\"/><g class=\"shapelayer\"/></g><g class=\"infolayer\"><g class=\"g-gtitle\"/><g class=\"g-xtitle\"><text class=\"xtitle\" x=\"368.5\" y=\"200.30625\" text-anchor=\"middle\" style=\"opacity: 1; font-family: 'Open Sans', verdana, arial, sans-serif; font-size: 12px; fill: rgb(42, 63, 95); fill-opacity: 1; white-space: pre;\">Day of year</text></g><g class=\"g-x2title\"><text class=\"x2title\" x=\"368.5\" y=\"412.525\" text-anchor=\"middle\" style=\"opacity: 1; font-family: 'Open Sans', verdana, arial, sans-serif; font-size: 12px; fill: rgb(42, 63, 95); fill-opacity: 1; white-space: pre;\">Day of week</text></g><g class=\"g-x3title\"><text class=\"x3title\" x=\"368.5\" y=\"624.728125\" text-anchor=\"middle\" style=\"opacity: 1; font-family: 'Open Sans', verdana, arial, sans-serif; font-size: 12px; fill: rgb(42, 63, 95); fill-opacity: 1; white-space: pre;\">Day of week</text></g><g class=\"g-x4title\"><text class=\"x4title\" x=\"368.5\" y=\"836.946875\" text-anchor=\"middle\" style=\"opacity: 1; font-family: 'Open Sans', verdana, arial, sans-serif; font-size: 12px; fill: rgb(42, 63, 95); fill-opacity: 1; white-space: pre;\">Day of week</text></g><g class=\"g-x5title\" transform=\"translate(0,-2.150000000000091)\"><text class=\"x5title\" x=\"368.5\" y=\"1049.15\" text-anchor=\"middle\" style=\"opacity: 1; font-family: 'Open Sans', verdana, arial, sans-serif; font-size: 12px; fill: rgb(42, 63, 95); fill-opacity: 1; white-space: pre;\">Day of week</text></g><g class=\"g-ytitle\" transform=\"translate(5.7138671875,0)\"><text class=\"ytitle\" transform=\"rotate(-90,5.299999999999997,86.07600000000001)\" x=\"5.299999999999997\" y=\"86.07600000000001\" text-anchor=\"middle\" style=\"opacity: 1; font-family: 'Open Sans', verdana, arial, sans-serif; font-size: 12px; fill: rgb(42, 63, 95); fill-opacity: 1; white-space: pre;\">Seasonality: yearly</text></g><g class=\"g-y2title\" transform=\"translate(5.70703125,0)\"><text class=\"y2title\" transform=\"rotate(-90,5.299999999999997,298.28800000000007)\" x=\"5.299999999999997\" y=\"298.28800000000007\" text-anchor=\"middle\" style=\"opacity: 1; font-family: 'Open Sans', verdana, arial, sans-serif; font-size: 12px; fill: rgb(42, 63, 95); fill-opacity: 1; white-space: pre;\">Seasonality: weekly_summer</text></g><g class=\"g-y3title\" transform=\"translate(5.7001953125,0)\"><text class=\"y3title\" transform=\"rotate(-90,5.299999999999997,510.5)\" x=\"5.299999999999997\" y=\"510.5\" text-anchor=\"middle\" style=\"opacity: 1; font-family: 'Open Sans', verdana, arial, sans-serif; font-size: 12px; fill: rgb(42, 63, 95); fill-opacity: 1; white-space: pre;\">Seasonality: weekly_fall</text></g><g class=\"g-y4title\"><text class=\"y4title\" transform=\"rotate(-90,11.143749999999997,722.712)\" x=\"11.143749999999997\" y=\"722.712\" text-anchor=\"middle\" style=\"opacity: 1; font-family: 'Open Sans', verdana, arial, sans-serif; font-size: 12px; fill: rgb(42, 63, 95); fill-opacity: 1; white-space: pre;\">Seasonality: weekly_winter</text></g><g class=\"g-y5title\" transform=\"translate(5.7021484375,0)\"><text class=\"y5title\" transform=\"rotate(-90,5.299999999999997,934.924)\" x=\"5.299999999999997\" y=\"934.924\" text-anchor=\"middle\" style=\"opacity: 1; font-family: 'Open Sans', verdana, arial, sans-serif; font-size: 12px; fill: rgb(42, 63, 95); fill-opacity: 1; white-space: pre;\">Seasonality: weekly_spring</text></g></g></svg>"
      ]
     },
     "metadata": {},
     "output_type": "display_data"
    }
   ],
   "source": [
    "m.plot_parameters(components=\"seasonality\")"
   ]
  }
 ],
 "metadata": {
  "kernelspec": {
   "display_name": ".venv",
   "language": "python",
   "name": "python3"
  },
  "language_info": {
   "codemirror_mode": {
    "name": "ipython",
    "version": 3
   },
   "file_extension": ".py",
   "mimetype": "text/x-python",
   "name": "python",
   "nbconvert_exporter": "python",
   "pygments_lexer": "ipython3",
   "version": "3.11.11"
  }
 },
 "nbformat": 4,
 "nbformat_minor": 5
}
